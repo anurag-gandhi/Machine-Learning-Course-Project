{
 "cells": [
  {
   "cell_type": "code",
   "execution_count": 607,
   "metadata": {
    "collapsed": false
   },
   "outputs": [],
   "source": [
    "import import_asl\n",
    "import importlib\n",
    "import pandas as pd\n",
    "import numpy as np\n",
    "from scipy.spatial.distance import euclidean\n",
    "from fastdtw import fastdtw\n",
    "from sklearn.neighbors import KNeighborsClassifier\n",
    "from sklearn.model_selection import cross_val_score\n",
    "from sklearn.model_selection import train_test_split\n",
    "from sklearn.model_selection import GridSearchCV\n",
    "import re\n",
    "from sklearn import svm\n",
    "from sklearn.model_selection import train_test_split\n",
    "from sklearn.model_selection import cross_val_score, GridSearchCV\n",
    "from sklearn.preprocessing import LabelEncoder\n",
    "from sklearn.linear_model import LogisticRegression\n",
    "from tsfresh.utilities.dataframe_functions import impute\n",
    "from tsfresh import extract_features\n",
    "from sklearn.metrics import precision_recall_fscore_support\n",
    "from tsfresh.feature_extraction import MinimalFeatureExtractionSettings, ReasonableFeatureExtractionSettings\n",
    "from tsfresh.feature_extraction import FeatureExtractionSettings\n",
    "from sklearn.ensemble import RandomForestClassifier\n",
    "from sklearn.ensemble import AdaBoostClassifier\n",
    "from sklearn.ensemble import BaggingClassifier\n",
    "from sklearn.ensemble import VotingClassifier\n",
    "from scipy.stats import mode\n",
    "from sklearn.metrics import classification_report\n",
    "from sklearn.metrics import confusion_matrix\n",
    "from keras.models import Sequential\n",
    "from keras.layers import Dense,Dropout\n",
    "from keras.wrappers.scikit_learn import KerasClassifier\n",
    "from keras.utils import np_utils\n",
    "from sklearn.preprocessing import OneHotEncoder"
   ]
  },
  {
   "cell_type": "code",
   "execution_count": 38,
   "metadata": {
    "collapsed": false
   },
   "outputs": [
    {
     "data": {
      "text/plain": [
       "<module 'import_asl' from 'C:\\\\Users\\\\anura\\\\Documents\\\\Machine-Learning-Course-Project\\\\import_asl.py'>"
      ]
     },
     "execution_count": 38,
     "metadata": {},
     "output_type": "execute_result"
    }
   ],
   "source": [
    "importlib.reload(import_asl)"
   ]
  },
  {
   "cell_type": "code",
   "execution_count": 45,
   "metadata": {
    "collapsed": false
   },
   "outputs": [],
   "source": [
    "def grid_search_length(length):   \n",
    "    signs_all_ts = import_asl.import_data(length)\n",
    "    signs_flat = import_asl.create_flat_df(signs_all_ts, spatial_scale=True)\n",
    "\n",
    "    X = signs_flat.drop(['label', 'ID', 'folder'], axis=1)\n",
    "\n",
    "    Y = signs_flat['label']\n",
    "    le = LabelEncoder()\n",
    "    le.fit(Y)\n",
    "    y = le.transform(Y)\n",
    "\n",
    "    clf = LogisticRegression(C=1, penalty='l1')\n",
    "\n",
    "    X_train, X_test, y_train, y_test = train_test_split(X, y, test_size=0.25, random_state=42)\n",
    "    print(cross_val_score(clf, X_train, y_train, verbose=1).mean())"
   ]
  },
  {
   "cell_type": "code",
   "execution_count": null,
   "metadata": {
    "collapsed": false,
    "scrolled": true
   },
   "outputs": [],
   "source": [
    "for length in [10, 20, 30, 40, 57]:\n",
    "    grid_search_length(length)"
   ]
  },
  {
   "cell_type": "markdown",
   "metadata": {},
   "source": [
    "## Baseline Model"
   ]
  },
  {
   "cell_type": "code",
   "execution_count": 51,
   "metadata": {
    "collapsed": false
   },
   "outputs": [
    {
     "name": "stderr",
     "output_type": "stream",
     "text": [
      "[Parallel(n_jobs=1)]: Done   3 out of   3 | elapsed:   11.1s finished\n"
     ]
    },
    {
     "name": "stdout",
     "output_type": "stream",
     "text": [
      "0.90752624199\n"
     ]
    }
   ],
   "source": [
    "signs_all_ts = import_asl.import_data(57)\n",
    "signs_flat_57 = import_asl.create_flat_df(signs_all_ts, spatial_scale=False)\n",
    "X = signs_flat_57.drop(['label', 'ID', 'folder'], axis=1)\n",
    "\n",
    "Y = signs_flat_57['label']\n",
    "le = LabelEncoder()\n",
    "le.fit(Y)\n",
    "y = le.transform(Y)\n",
    "\n",
    "clf = svm.SVC(kernel='linear', C=10)\n",
    "\n",
    "X_train, X_test, y_train, y_test = train_test_split(X, y, test_size=0.25, random_state=42)\n",
    "print(cross_val_score(clf, X_train, y_train, verbose=1).mean())\n",
    "clf.fit(X_train, y_train)"
   ]
  },
  {
   "cell_type": "markdown",
   "metadata": {},
   "source": [
    "### Test Accuracy"
   ]
  },
  {
   "cell_type": "code",
   "execution_count": 57,
   "metadata": {
    "collapsed": false
   },
   "outputs": [
    {
     "data": {
      "text/plain": [
       "0.93146417445482865"
      ]
     },
     "execution_count": 57,
     "metadata": {},
     "output_type": "execute_result"
    }
   ],
   "source": [
    "sum(clf.predict(X_test) == y_test)/len(y_test)"
   ]
  },
  {
   "cell_type": "code",
   "execution_count": 56,
   "metadata": {
    "collapsed": false
   },
   "outputs": [
    {
     "data": {
      "text/plain": [
       "(0.93884148015726954, 0.93718348902559445, 0.93155490328294632, None)"
      ]
     },
     "execution_count": 56,
     "metadata": {},
     "output_type": "execute_result"
    }
   ],
   "source": [
    "precision_recall_fscore_support(y_test, clf.predict(X_test), average='macro')"
   ]
  },
  {
   "cell_type": "markdown",
   "metadata": {},
   "source": [
    "## SVM with spatial scaling and downsampling"
   ]
  },
  {
   "cell_type": "code",
   "execution_count": 278,
   "metadata": {
    "collapsed": false
   },
   "outputs": [
    {
     "name": "stdout",
     "output_type": "stream",
     "text": [
      "tctodd1\n",
      "tctodd2\n",
      "tctodd3\n",
      "tctodd4\n",
      "tctodd5\n",
      "tctodd6\n",
      "tctodd7\n",
      "tctodd8\n",
      "tctodd9\n"
     ]
    },
    {
     "name": "stderr",
     "output_type": "stream",
     "text": [
      "C:\\Users\\anura\\Documents\\Machine-Learning-Course-Project\\import_asl.py:87: SettingWithCopyWarning: \n",
      "A value is trying to be set on a copy of a slice from a DataFrame.\n",
      "Try using .loc[row_indexer,col_indexer] = value instead\n",
      "\n",
      "See the caveats in the documentation: http://pandas.pydata.org/pandas-docs/stable/indexing.html#indexing-view-versus-copy\n",
      "  df['frame'] = df.index + 1\n",
      "[Parallel(n_jobs=1)]: Done   3 out of   3 | elapsed:    2.4s finished\n"
     ]
    },
    {
     "name": "stdout",
     "output_type": "stream",
     "text": [
      "0.952723215676\n"
     ]
    }
   ],
   "source": [
    "signs_all_ts = import_asl.import_data(10)\n",
    "signs_flat = import_asl.create_flat_df(signs_all_ts, spatial_scale=True)\n",
    "X = signs_flat.drop(['label', 'ID', 'folder'], axis=1)\n",
    "\n",
    "Y = signs_flat['label']\n",
    "le = LabelEncoder()\n",
    "le.fit(Y)\n",
    "y = le.transform(Y)\n",
    "\n",
    "clf = svm.SVC(kernel='linear', C=10)\n",
    "\n",
    "X_train, X_test, y_train, y_test = train_test_split(X, y, test_size=0.25, random_state=42)\n",
    "print(cross_val_score(clf, X_train, y_train, verbose=1).mean())"
   ]
  },
  {
   "cell_type": "markdown",
   "metadata": {},
   "source": [
    "## Right Hand Meta Features"
   ]
  },
  {
   "cell_type": "code",
   "execution_count": 417,
   "metadata": {
    "collapsed": false
   },
   "outputs": [],
   "source": [
    "df = signs_all_ts.copy()\n",
    "df2 = signs_flat.copy()\n",
    "df.ID = df.ID.astype(str)\n",
    "df['ID'] = df['folder'] + df['label'] + df['ID']\n",
    "\n",
    "g = df.groupby('ID')\n",
    "df['ix'] = df.index.values\n",
    "\n",
    "df['frame'] = g['ix'].rank(method='first')\n",
    "\n",
    "df['frame'] = df['frame'].astype(int)\n",
    "\n",
    "#y = df[['ID','label']].drop_duplicates()['label']\n",
    "y = df[['ID','label']].drop_duplicates().set_index('ID')\n",
    "df.drop(['label', 'folder', 'ix'], axis = 1, inplace=True)\n",
    "\n",
    "df_R = df.ix[:,11:]\n"
   ]
  },
  {
   "cell_type": "code",
   "execution_count": 97,
   "metadata": {
    "collapsed": false
   },
   "outputs": [
    {
     "name": "stderr",
     "output_type": "stream",
     "text": [
      "Feature Extraction: 100%|██████████████████████████████████████████████████████████████| 11/11 [11:22<00:00, 62.01s/it]\n"
     ]
    }
   ],
   "source": [
    "settings = FeatureExtractionSettings()\n",
    "\n",
    "extracted_features = extract_features(df_R, \n",
    "                                      column_id=\"ID\", \n",
    "                                      column_sort=\"frame\",\n",
    "                                     feature_extraction_settings=ReasonableFeatureExtractionSettings())"
   ]
  },
  {
   "cell_type": "code",
   "execution_count": 98,
   "metadata": {
    "collapsed": false
   },
   "outputs": [],
   "source": [
    "for col in extracted_features.columns:\n",
    "    if (sum(pd.isnull(extracted_features[col])) > 0) or (sum(extracted_features[col]) == 0):\n",
    "        del (extracted_features[col])"
   ]
  },
  {
   "cell_type": "code",
   "execution_count": 544,
   "metadata": {
    "collapsed": false
   },
   "outputs": [
    {
     "name": "stderr",
     "output_type": "stream",
     "text": [
      "Feature Extraction: 100%|██████████████████████████████████████████████████████████████| 11/11 [00:10<00:00,  1.07it/s]\n"
     ]
    }
   ],
   "source": [
    "#extracted_features.columns\n",
    "candidates = ['mean_autocorrelation', 'absolute_sum_of_changes', 'large_number_of_peaks', 'skewness', \n",
    "              'thumb_R_symmetry_looking','fore_R_symmetry_looking','little_R_symmetry_looking', \n",
    "              'mean_second_derivate_central', 'last_location_of_maximum',\n",
    "              'first_location_of_maximum',  'sample_entropy'\n",
    "             ]\n",
    "filtered_features = list(extract_features(df_R, \n",
    "                                      column_id=\"ID\", \n",
    "                                      column_sort=\"frame\",\n",
    "                                     feature_extraction_settings=MinimalFeatureExtractionSettings()).columns.values)\n",
    "for col in extracted_features.columns:\n",
    "    for candidate in candidates:\n",
    "        if col.find(candidate) > -1:\n",
    "            filtered_features.append(col)\n"
   ]
  },
  {
   "cell_type": "code",
   "execution_count": 545,
   "metadata": {
    "collapsed": false
   },
   "outputs": [],
   "source": [
    "for col in filtered_features:\n",
    "    if col.find('R__length') > -1:\n",
    "        filtered_features.remove(col)"
   ]
  },
  {
   "cell_type": "code",
   "execution_count": 546,
   "metadata": {
    "collapsed": false
   },
   "outputs": [
    {
     "data": {
      "text/plain": [
       "RandomForestClassifier(bootstrap=True, class_weight=None, criterion='entropy',\n",
       "            max_depth=30, max_features='auto', max_leaf_nodes=None,\n",
       "            min_impurity_split=1e-07, min_samples_leaf=1,\n",
       "            min_samples_split=2, min_weight_fraction_leaf=0.0,\n",
       "            n_estimators=50, n_jobs=1, oob_score=False, random_state=None,\n",
       "            verbose=0, warm_start=False)"
      ]
     },
     "execution_count": 546,
     "metadata": {},
     "output_type": "execute_result"
    }
   ],
   "source": [
    "y = y.sort_index()\n",
    "X = np.array(extracted_features[filtered_features].sort_index())\n",
    "X_train, X_test, y_train, y_test = train_test_split(X, y['label'], test_size=0.25, random_state=42)\n",
    "clf = RandomForestClassifier(n_estimators=50,  \n",
    "                             criterion='entropy',\n",
    "                            max_depth=30)\n",
    "clf.fit(X_train, y_train)\n"
   ]
  },
  {
   "cell_type": "code",
   "execution_count": null,
   "metadata": {
    "collapsed": false,
    "scrolled": true
   },
   "outputs": [],
   "source": [
    "param_grid = {#\"max_depth\": [10, 30, None],\n",
    "              #\"max_features\": [50, 70, 'auto'],\n",
    "              #\"min_samples_split\": [2, 5],\n",
    "              #\"min_samples_leaf\": [1, 3],\n",
    "              \"n_estimators\": [50, 60, 100],\n",
    "              \"bootstrap\": [True, False],\n",
    "              #\"criterion\": [\"gini\", \"entropy\"]}\n",
    "            }\n",
    "\n",
    "grid_search = GridSearchCV(clf, param_grid=param_grid, verbose=3)\n",
    "grid_search.fit(X_train, y_train)"
   ]
  },
  {
   "cell_type": "code",
   "execution_count": 262,
   "metadata": {
    "collapsed": false
   },
   "outputs": [
    {
     "data": {
      "text/plain": [
       "{'bootstrap': False, 'n_estimators': 100}"
      ]
     },
     "execution_count": 262,
     "metadata": {},
     "output_type": "execute_result"
    }
   ],
   "source": [
    "grid_search.best_params_"
   ]
  },
  {
   "cell_type": "code",
   "execution_count": 547,
   "metadata": {
    "collapsed": false
   },
   "outputs": [
    {
     "name": "stdout",
     "output_type": "stream",
     "text": [
      "[CV]  ................................................................\n",
      "[CV] ................................. , score=0.940618, total=   3.4s\n"
     ]
    },
    {
     "name": "stderr",
     "output_type": "stream",
     "text": [
      "[Parallel(n_jobs=1)]: Done   1 out of   1 | elapsed:    3.5s remaining:    0.0s\n"
     ]
    },
    {
     "name": "stdout",
     "output_type": "stream",
     "text": [
      "[CV]  ................................................................\n",
      "[CV] ................................. , score=0.972772, total=   3.5s\n"
     ]
    },
    {
     "name": "stderr",
     "output_type": "stream",
     "text": [
      "[Parallel(n_jobs=1)]: Done   2 out of   2 | elapsed:    7.1s remaining:    0.0s\n"
     ]
    },
    {
     "name": "stdout",
     "output_type": "stream",
     "text": [
      "[CV]  ................................................................\n",
      "[CV] ................................. , score=0.922078, total=   3.5s\n",
      "[CV]  ................................................................\n",
      "[CV] ................................. , score=0.964481, total=   3.8s\n",
      "[CV]  ................................................................\n",
      "[CV] ................................. , score=0.951009, total=   3.7s\n"
     ]
    },
    {
     "name": "stderr",
     "output_type": "stream",
     "text": [
      "[Parallel(n_jobs=1)]: Done   5 out of   5 | elapsed:   18.4s finished\n"
     ]
    },
    {
     "data": {
      "text/plain": [
       "0.95019145927057502"
      ]
     },
     "execution_count": 547,
     "metadata": {},
     "output_type": "execute_result"
    }
   ],
   "source": [
    "cross_val_score(clf, X_train, y_train, cv=5, verbose=3).mean()"
   ]
  },
  {
   "cell_type": "code",
   "execution_count": 549,
   "metadata": {
    "collapsed": false
   },
   "outputs": [
    {
     "data": {
      "text/plain": [
       "Index(['little_R__minimum', 'little_R__median', 'y_R__minimum', 'y_R__median',\n",
       "       'middle_R__median', 'middle_R__minimum', 'x_R__median',\n",
       "       'z_R__sum_values', 'z_R__mean', 'z_R__median', 'thumb_R__median',\n",
       "       'ring_R__last_location_of_maximum', 'ring_R__first_location_of_maximum',\n",
       "       'little_R__first_location_of_maximum',\n",
       "       'middle_R__last_location_of_maximum',\n",
       "       'thumb_R__last_location_of_maximum',\n",
       "       'thumb_R__first_location_of_maximum'],\n",
       "      dtype='object')"
      ]
     },
     "execution_count": 549,
     "metadata": {},
     "output_type": "execute_result"
    }
   ],
   "source": [
    "extracted_features[filtered_features].columns[clf.feature_importances_ < 0.001]"
   ]
  },
  {
   "cell_type": "code",
   "execution_count": 548,
   "metadata": {
    "collapsed": false
   },
   "outputs": [
    {
     "data": {
      "text/plain": [
       "0.96261682242990654"
      ]
     },
     "execution_count": 548,
     "metadata": {},
     "output_type": "execute_result"
    }
   ],
   "source": [
    "sum(clf.predict(X_test) == y_test)/len(y_test)"
   ]
  },
  {
   "cell_type": "code",
   "execution_count": 550,
   "metadata": {
    "collapsed": false
   },
   "outputs": [
    {
     "name": "stdout",
     "output_type": "stream",
     "text": [
      "              precision    recall  f1-score   support\n",
      "\n",
      "         God       1.00      1.00      1.00         5\n",
      "           I       0.86      1.00      0.92         6\n",
      "      Norway       1.00      1.00      1.00         8\n",
      "       alive       0.86      1.00      0.92         6\n",
      "         all       1.00      1.00      1.00         6\n",
      "      answer       0.80      0.80      0.80         5\n",
      "         boy       1.00      1.00      1.00        10\n",
      "    building       1.00      1.00      1.00         4\n",
      "         buy       1.00      1.00      1.00         8\n",
      "change_mind_       1.00      1.00      1.00         3\n",
      "        cold       1.00      1.00      1.00         9\n",
      "        come       1.00      1.00      1.00         7\n",
      "computer_PC_       1.00      1.00      1.00         5\n",
      "        cost       1.00      1.00      1.00         8\n",
      "       crazy       0.80      1.00      0.89         4\n",
      "      danger       0.90      1.00      0.95         9\n",
      "        deaf       1.00      0.90      0.95        10\n",
      "   different       1.00      1.00      1.00        12\n",
      "        draw       1.00      1.00      1.00         5\n",
      "       drink       1.00      1.00      1.00         9\n",
      "         eat       1.00      1.00      1.00         4\n",
      "        exit       1.00      1.00      1.00         6\n",
      "       flash       1.00      1.00      1.00         7\n",
      "      forget       1.00      1.00      1.00         9\n",
      "        girl       0.75      1.00      0.86         3\n",
      "        give       0.88      1.00      0.93         7\n",
      "       glove       1.00      0.88      0.93         8\n",
      "          go       1.00      1.00      1.00         8\n",
      "       happy       0.86      1.00      0.92         6\n",
      "        head       1.00      1.00      1.00         6\n",
      "        hear       1.00      1.00      1.00         6\n",
      "       hello       1.00      1.00      1.00         3\n",
      "    his_hers       1.00      1.00      1.00         6\n",
      "         hot       1.00      1.00      1.00         7\n",
      "         how       0.67      1.00      0.80         4\n",
      "       hurry       0.86      0.86      0.86         7\n",
      "        hurt       1.00      0.89      0.94         9\n",
      "    innocent       0.83      0.83      0.83         6\n",
      "    is_true_       1.00      1.00      1.00         7\n",
      "        joke       1.00      1.00      1.00         7\n",
      "       juice       1.00      1.00      1.00         7\n",
      "        know       1.00      1.00      1.00         9\n",
      "       later       1.00      1.00      1.00         4\n",
      "        lose       1.00      1.00      1.00        10\n",
      "        love       1.00      0.80      0.89         5\n",
      "        make       1.00      0.89      0.94         9\n",
      "         man       1.00      0.67      0.80         3\n",
      "       maybe       1.00      1.00      1.00         7\n",
      "        mine       0.67      0.80      0.73         5\n",
      "       money       0.89      0.89      0.89         9\n",
      "        more       0.88      0.88      0.88         8\n",
      "        name       1.00      1.00      1.00         5\n",
      "          no       1.00      1.00      1.00         8\n",
      "         not       0.67      0.67      0.67         3\n",
      "       paper       1.00      1.00      1.00         5\n",
      "         pen       1.00      0.86      0.92         7\n",
      "      please       1.00      1.00      1.00         4\n",
      "      polite       1.00      0.89      0.94         9\n",
      "    question       1.00      1.00      1.00         9\n",
      "        read       0.92      1.00      0.96        11\n",
      "       ready       1.00      1.00      1.00         2\n",
      "    research       1.00      1.00      1.00         3\n",
      " responsible       0.83      1.00      0.91        10\n",
      "       right       0.88      1.00      0.93         7\n",
      "         sad       0.86      0.75      0.80         8\n",
      "        same       1.00      1.00      1.00        11\n",
      "     science       1.00      1.00      1.00         7\n",
      "       share       1.00      1.00      1.00        10\n",
      "        shop       0.83      1.00      0.91         5\n",
      "        soon       1.00      1.00      1.00         6\n",
      "       sorry       1.00      0.90      0.95        10\n",
      "       spend       1.00      1.00      1.00         7\n",
      "    stubborn       1.00      1.00      1.00         6\n",
      "    surprise       1.00      1.00      1.00         7\n",
      "        take       1.00      1.00      1.00         9\n",
      "      temper       0.75      1.00      0.86         3\n",
      "       thank       1.00      0.83      0.91         6\n",
      "       think       1.00      0.83      0.91         6\n",
      "        tray       1.00      1.00      1.00         3\n",
      "          us       1.00      0.86      0.92         7\n",
      "   voluntary       1.00      0.83      0.91         6\n",
      "wait_notyet_       1.00      1.00      1.00        10\n",
      "        what       1.00      1.00      1.00         4\n",
      "        when       1.00      1.00      1.00        10\n",
      "       where       1.00      0.71      0.83         7\n",
      "       which       1.00      1.00      1.00         4\n",
      "         who       1.00      1.00      1.00         7\n",
      "         why       1.00      1.00      1.00         3\n",
      "        wild       1.00      1.00      1.00         8\n",
      "        will       1.00      1.00      1.00        12\n",
      "       write       1.00      1.00      1.00         7\n",
      "       wrong       1.00      1.00      1.00         5\n",
      "         yes       1.00      1.00      1.00         6\n",
      "         you       1.00      1.00      1.00        10\n",
      "        zero       1.00      1.00      1.00         8\n",
      "\n",
      " avg / total       0.97      0.96      0.96       642\n",
      "\n"
     ]
    }
   ],
   "source": [
    "print(classification_report(y_test, clf.predict(X_test)))"
   ]
  },
  {
   "cell_type": "markdown",
   "metadata": {},
   "source": [
    "### Ensemble: Voting"
   ]
  },
  {
   "cell_type": "code",
   "execution_count": 418,
   "metadata": {
    "collapsed": false
   },
   "outputs": [],
   "source": [
    "df2['ID'] = df2['folder'] + df2['label'] + df2['ID'].astype(str)"
   ]
  },
  {
   "cell_type": "code",
   "execution_count": 551,
   "metadata": {
    "collapsed": false
   },
   "outputs": [],
   "source": [
    "X1 = df2.set_index('ID').drop(['folder', 'label'], axis=1)"
   ]
  },
  {
   "cell_type": "code",
   "execution_count": 552,
   "metadata": {
    "collapsed": false
   },
   "outputs": [],
   "source": [
    "X2 = extracted_features[filtered_features]\n",
    "X = X1.merge(X2, right_index=True, left_index=True)"
   ]
  },
  {
   "cell_type": "code",
   "execution_count": 433,
   "metadata": {
    "collapsed": true
   },
   "outputs": [],
   "source": [
    "def eclf_fit(X, y):\n",
    "    clf1 = LogisticRegression(C=1, penalty='l1')\n",
    "    clf2 = svm.SVC(kernel='linear',C=1,probability=True)\n",
    "    clf3 = RandomForestClassifier(n_estimators=100,  criterion='entropy', \n",
    "                                  max_depth=30, bootstrap=False)\n",
    "    clf4 = KNeighborsClassifier(n_neighbors=1, p=1)\n",
    "    \n",
    "    X1 = X.ix[:,:220]\n",
    "    X2 = X.ix[:,220:]\n",
    "        \n",
    "    clf1.fit(X1, y)\n",
    "    clf2.fit(X1, y)\n",
    "    clf3.fit(X2, y)\n",
    "    clf4.fit(X, y)\n",
    "    \n",
    "    return clf1, clf2, clf3, clf4"
   ]
  },
  {
   "cell_type": "code",
   "execution_count": 511,
   "metadata": {
    "collapsed": true
   },
   "outputs": [],
   "source": [
    "def most_common(lst):\n",
    "    return max(set(lst), key=lst.count)\n",
    "\n",
    "def eclf_predict(X, clf1, clf2, clf3, clf4):\n",
    "    X1 = X.ix[:,:220]\n",
    "    X2 = X.ix[:,220:]\n",
    "        \n",
    "    y_pred1 = clf1.predict(X1)\n",
    "    y_pred2 = clf2.predict(X1)\n",
    "    y_pred3 = clf3.predict(X2)\n",
    "    y_pred4 = clf4.predict(X)\n",
    "    \n",
    "    y_pred = []\n",
    "    \n",
    "    for i in range(len(X)):\n",
    "        y_pred.append(most_common([y_pred1[i],  y_pred2[i], y_pred3[i]]))\n",
    "        \n",
    "    return y_pred\n",
    "            "
   ]
  },
  {
   "cell_type": "code",
   "execution_count": 570,
   "metadata": {
    "collapsed": false
   },
   "outputs": [],
   "source": [
    "X = X.sort_index()\n",
    "y = y.sort_index()\n",
    "X_train, X_test, y_train, y_test = train_test_split(X, y['label'], test_size=0.25, random_state=42)\n",
    "clf1, clf2, clf3, clf4 = eclf_fit(X_train, y_train)"
   ]
  },
  {
   "cell_type": "code",
   "execution_count": 571,
   "metadata": {
    "collapsed": false
   },
   "outputs": [
    {
     "data": {
      "text/plain": [
       "0.97352024922118385"
      ]
     },
     "execution_count": 571,
     "metadata": {},
     "output_type": "execute_result"
    }
   ],
   "source": [
    "sum(eclf_predict(X_test, clf1, clf2, clf3, clf4) == y_test)/len(y_test)"
   ]
  },
  {
   "cell_type": "code",
   "execution_count": 557,
   "metadata": {
    "collapsed": true
   },
   "outputs": [],
   "source": [
    "eclf1 = VotingClassifier(estimators=[\n",
    "         ('lr', clf1),('svm', clf2), ('rf', clf3)], voting='soft')"
   ]
  },
  {
   "cell_type": "code",
   "execution_count": 556,
   "metadata": {
    "collapsed": false
   },
   "outputs": [
    {
     "name": "stdout",
     "output_type": "stream",
     "text": [
      "[CV]  ................................................................\n",
      "[CV] ................................. , score=0.978622, total=  26.9s\n"
     ]
    },
    {
     "name": "stderr",
     "output_type": "stream",
     "text": [
      "[Parallel(n_jobs=1)]: Done   1 out of   1 | elapsed:   26.9s remaining:    0.0s\n"
     ]
    },
    {
     "name": "stdout",
     "output_type": "stream",
     "text": [
      "[CV]  ................................................................\n",
      "[CV] ................................. , score=0.980198, total=  27.4s\n"
     ]
    },
    {
     "name": "stderr",
     "output_type": "stream",
     "text": [
      "[Parallel(n_jobs=1)]: Done   2 out of   2 | elapsed:   54.5s remaining:    0.0s\n"
     ]
    },
    {
     "name": "stdout",
     "output_type": "stream",
     "text": [
      "[CV]  ................................................................\n",
      "[CV] ................................. , score=0.976684, total=  27.9s\n",
      "[CV]  ................................................................\n",
      "[CV] ................................. , score=0.980716, total=  28.4s\n",
      "[CV]  ................................................................\n",
      "[CV] ................................. , score=0.974212, total=  30.5s\n"
     ]
    },
    {
     "name": "stderr",
     "output_type": "stream",
     "text": [
      "[Parallel(n_jobs=1)]: Done   5 out of   5 | elapsed:  2.4min finished\n"
     ]
    },
    {
     "data": {
      "text/plain": [
       "0.97808651464885377"
      ]
     },
     "execution_count": 556,
     "metadata": {},
     "output_type": "execute_result"
    }
   ],
   "source": [
    "cross_val_score(eclf1, X_train, y_train, verbose=3, cv=5).mean()"
   ]
  },
  {
   "cell_type": "code",
   "execution_count": 558,
   "metadata": {
    "collapsed": false
   },
   "outputs": [
    {
     "data": {
      "text/plain": [
       "0.97975077881619943"
      ]
     },
     "execution_count": 558,
     "metadata": {},
     "output_type": "execute_result"
    }
   ],
   "source": [
    "eclf1.fit(X_train, y_train)\n",
    "sum(eclf1.predict(X_test) == y_test)/len(y_test)"
   ]
  },
  {
   "cell_type": "code",
   "execution_count": 559,
   "metadata": {
    "collapsed": true
   },
   "outputs": [],
   "source": [
    "w=[]\n",
    "\n",
    "for w1 in range(1,4):\n",
    "    for w2 in range(1,4):\n",
    "        for w3 in range(1,4):\n",
    "            w.append([w1, w2, w3])\n",
    "            \n"
   ]
  },
  {
   "cell_type": "code",
   "execution_count": 577,
   "metadata": {
    "collapsed": true
   },
   "outputs": [],
   "source": [
    "parameters = {'lr__C':[1, 10],\n",
    "             'svm__C':[1, 10]}\n",
    "grid_search = GridSearchCV(eclf1,param_grid=parameters, verbose=3, cv=5)"
   ]
  },
  {
   "cell_type": "code",
   "execution_count": 578,
   "metadata": {
    "collapsed": false
   },
   "outputs": [
    {
     "name": "stdout",
     "output_type": "stream",
     "text": [
      "Fitting 5 folds for each of 4 candidates, totalling 20 fits\n",
      "[CV] svm__C=1, lr__C=1 ...............................................\n",
      "[CV] ................ svm__C=1, lr__C=1, score=0.988124, total=  32.5s\n"
     ]
    },
    {
     "name": "stderr",
     "output_type": "stream",
     "text": [
      "[Parallel(n_jobs=1)]: Done   1 out of   1 | elapsed:   34.3s remaining:    0.0s\n"
     ]
    },
    {
     "name": "stdout",
     "output_type": "stream",
     "text": [
      "[CV] svm__C=1, lr__C=1 ...............................................\n",
      "[CV] ................ svm__C=1, lr__C=1, score=0.992574, total=  33.4s\n"
     ]
    },
    {
     "name": "stderr",
     "output_type": "stream",
     "text": [
      "[Parallel(n_jobs=1)]: Done   2 out of   2 | elapsed:  1.2min remaining:    0.0s\n"
     ]
    },
    {
     "name": "stdout",
     "output_type": "stream",
     "text": [
      "[CV] svm__C=1, lr__C=1 ...............................................\n",
      "[CV] ................ svm__C=1, lr__C=1, score=0.979221, total=  33.5s\n",
      "[CV] svm__C=1, lr__C=1 ...............................................\n",
      "[CV] ................ svm__C=1, lr__C=1, score=0.991803, total=  37.3s\n",
      "[CV] svm__C=1, lr__C=1 ...............................................\n",
      "[CV] ................ svm__C=1, lr__C=1, score=0.979827, total=  36.3s\n",
      "[CV] svm__C=10, lr__C=1 ..............................................\n",
      "[CV] ............... svm__C=10, lr__C=1, score=0.985748, total=  32.4s\n",
      "[CV] svm__C=10, lr__C=1 ..............................................\n",
      "[CV] ............... svm__C=10, lr__C=1, score=0.987624, total=  33.6s\n",
      "[CV] svm__C=10, lr__C=1 ..............................................\n",
      "[CV] ............... svm__C=10, lr__C=1, score=0.979221, total=  34.0s\n",
      "[CV] svm__C=10, lr__C=1 ..............................................\n",
      "[CV] ............... svm__C=10, lr__C=1, score=0.989071, total=  34.1s\n",
      "[CV] svm__C=10, lr__C=1 ..............................................\n",
      "[CV] ............... svm__C=10, lr__C=1, score=0.976945, total=  34.2s\n",
      "[CV] svm__C=1, lr__C=10 ..............................................\n",
      "[CV] ............... svm__C=1, lr__C=10, score=0.985748, total=  34.3s\n",
      "[CV] svm__C=1, lr__C=10 ..............................................\n",
      "[CV] ............... svm__C=1, lr__C=10, score=0.995050, total=  38.3s\n",
      "[CV] svm__C=1, lr__C=10 ..............................................\n",
      "[CV] ............... svm__C=1, lr__C=10, score=0.979221, total=  37.4s\n",
      "[CV] svm__C=1, lr__C=10 ..............................................\n",
      "[CV] ............... svm__C=1, lr__C=10, score=0.989071, total=  37.9s\n",
      "[CV] svm__C=1, lr__C=10 ..............................................\n",
      "[CV] ............... svm__C=1, lr__C=10, score=0.976945, total=  39.0s\n",
      "[CV] svm__C=10, lr__C=10 .............................................\n",
      "[CV] .............. svm__C=10, lr__C=10, score=0.988124, total=  34.8s\n",
      "[CV] svm__C=10, lr__C=10 .............................................\n",
      "[CV] .............. svm__C=10, lr__C=10, score=0.990099, total=  34.1s\n",
      "[CV] svm__C=10, lr__C=10 .............................................\n",
      "[CV] .............. svm__C=10, lr__C=10, score=0.979221, total=  34.6s\n",
      "[CV] svm__C=10, lr__C=10 .............................................\n",
      "[CV] .............. svm__C=10, lr__C=10, score=0.991803, total=  35.4s\n",
      "[CV] svm__C=10, lr__C=10 .............................................\n",
      "[CV] .............. svm__C=10, lr__C=10, score=0.976945, total=  35.7s\n"
     ]
    },
    {
     "name": "stderr",
     "output_type": "stream",
     "text": [
      "[Parallel(n_jobs=1)]: Done  20 out of  20 | elapsed: 12.4min finished\n"
     ]
    },
    {
     "data": {
      "text/plain": [
       "GridSearchCV(cv=5, error_score='raise',\n",
       "       estimator=VotingClassifier(estimators=[('lr', LogisticRegression(C=1, class_weight=None, dual=False, fit_intercept=True,\n",
       "          intercept_scaling=1, max_iter=100, multi_class='ovr', n_jobs=1,\n",
       "          penalty='l1', random_state=None, solver='liblinear', tol=0.0001,\n",
       "          verbose=0, warm_start=False)), ('svm', SVC(C=1,...n_jobs=1,\n",
       "            oob_score=False, random_state=None, verbose=0,\n",
       "            warm_start=False))],\n",
       "         n_jobs=1, voting='soft', weights=[1, 2, 2]),\n",
       "       fit_params={}, iid=True, n_jobs=1,\n",
       "       param_grid={'svm__C': [1, 10], 'lr__C': [1, 10]},\n",
       "       pre_dispatch='2*n_jobs', refit=True, return_train_score=True,\n",
       "       scoring=None, verbose=3)"
      ]
     },
     "execution_count": 578,
     "metadata": {},
     "output_type": "execute_result"
    }
   ],
   "source": [
    "grid_search.fit(X_train, y_train)"
   ]
  },
  {
   "cell_type": "code",
   "execution_count": 580,
   "metadata": {
    "collapsed": false
   },
   "outputs": [
    {
     "data": {
      "text/plain": [
       "{'lr__C': 1, 'svm__C': 1}"
      ]
     },
     "execution_count": 580,
     "metadata": {},
     "output_type": "execute_result"
    }
   ],
   "source": [
    "grid_search.best_params_"
   ]
  },
  {
   "cell_type": "code",
   "execution_count": 574,
   "metadata": {
    "collapsed": false,
    "scrolled": true
   },
   "outputs": [
    {
     "data": {
      "text/plain": [
       "{'mean_fit_time': array([  33.39307923,   33.42195635,   33.11793079,   34.11960716,\n",
       "          32.98135223,   32.6761229 ,   34.13689165,   34.18002162,\n",
       "          34.71770077,   34.67520304,   34.11145768,   34.38548846,\n",
       "          32.61198063,   32.7704988 ,   32.74576445,   33.30042334,\n",
       "          32.72883544,   33.46751924,   38.90830626,   36.28291545,\n",
       "          34.4086854 ,   34.64829817,   36.46163325,   36.81225023,\n",
       "          36.3536653 ,   36.42960372,  130.73989139]),\n",
       " 'mean_score_time': array([ 0.46078529,  0.45079341,  0.47678638,  0.44896808,  0.45290198,\n",
       "         0.46321931,  0.46850867,  0.45959263,  0.46456099,  0.46853971,\n",
       "         0.47489028,  0.47871747,  0.43954988,  0.44856143,  0.43767018,\n",
       "         0.45021787,  0.44586568,  0.44752707,  0.45690064,  0.45938206,\n",
       "         0.46472197,  0.46475072,  0.51099854,  0.4957984 ,  0.5197072 ,\n",
       "         0.47391052,  0.47048297]),\n",
       " 'mean_test_score': array([ 0.97815913,  0.98231929,  0.98387936,  0.98075923,  0.98439938,\n",
       "         0.98387936,  0.98179927,  0.98439938,  0.98231929,  0.97763911,\n",
       "         0.97919917,  0.98335933,  0.97763911,  0.98023921,  0.98127925,\n",
       "         0.97763911,  0.98023921,  0.98231929,  0.975039  ,  0.97815913,\n",
       "         0.98023921,  0.975039  ,  0.97867915,  0.98023921,  0.97607904,\n",
       "         0.97815913,  0.97919917]),\n",
       " 'mean_train_score': array([ 1.,  1.,  1.,  1.,  1.,  1.,  1.,  1.,  1.,  1.,  1.,  1.,  1.,\n",
       "         1.,  1.,  1.,  1.,  1.,  1.,  1.,  1.,  1.,  1.,  1.,  1.,  1.,  1.]),\n",
       " 'param_weights': masked_array(data = [[1, 1, 1] [1, 1, 2] [1, 1, 3] [1, 2, 1] [1, 2, 2] [1, 2, 3] [1, 3, 1]\n",
       "  [1, 3, 2] [1, 3, 3] [2, 1, 1] [2, 1, 2] [2, 1, 3] [2, 2, 1] [2, 2, 2]\n",
       "  [2, 2, 3] [2, 3, 1] [2, 3, 2] [2, 3, 3] [3, 1, 1] [3, 1, 2] [3, 1, 3]\n",
       "  [3, 2, 1] [3, 2, 2] [3, 2, 3] [3, 3, 1] [3, 3, 2] [3, 3, 3]],\n",
       "              mask = [False False False False False False False False False False False False\n",
       "  False False False False False False False False False False False False\n",
       "  False False False],\n",
       "        fill_value = ?),\n",
       " 'params': ({'weights': [1, 1, 1]},\n",
       "  {'weights': [1, 1, 2]},\n",
       "  {'weights': [1, 1, 3]},\n",
       "  {'weights': [1, 2, 1]},\n",
       "  {'weights': [1, 2, 2]},\n",
       "  {'weights': [1, 2, 3]},\n",
       "  {'weights': [1, 3, 1]},\n",
       "  {'weights': [1, 3, 2]},\n",
       "  {'weights': [1, 3, 3]},\n",
       "  {'weights': [2, 1, 1]},\n",
       "  {'weights': [2, 1, 2]},\n",
       "  {'weights': [2, 1, 3]},\n",
       "  {'weights': [2, 2, 1]},\n",
       "  {'weights': [2, 2, 2]},\n",
       "  {'weights': [2, 2, 3]},\n",
       "  {'weights': [2, 3, 1]},\n",
       "  {'weights': [2, 3, 2]},\n",
       "  {'weights': [2, 3, 3]},\n",
       "  {'weights': [3, 1, 1]},\n",
       "  {'weights': [3, 1, 2]},\n",
       "  {'weights': [3, 1, 3]},\n",
       "  {'weights': [3, 2, 1]},\n",
       "  {'weights': [3, 2, 2]},\n",
       "  {'weights': [3, 2, 3]},\n",
       "  {'weights': [3, 3, 1]},\n",
       "  {'weights': [3, 3, 2]},\n",
       "  {'weights': [3, 3, 3]}),\n",
       " 'rank_test_score': array([19,  6,  3, 11,  1,  3,  9,  1,  6, 22, 16,  5, 22, 12, 10, 22, 12,\n",
       "         6, 26, 19, 12, 26, 18, 12, 25, 19, 16]),\n",
       " 'split0_test_score': array([ 0.97624703,  0.97862233,  0.98337292,  0.97862233,  0.97862233,\n",
       "         0.97624703,  0.98099762,  0.98337292,  0.98099762,  0.97862233,\n",
       "         0.97862233,  0.97862233,  0.97862233,  0.97862233,  0.97862233,\n",
       "         0.97862233,  0.97624703,  0.98099762,  0.97387173,  0.97862233,\n",
       "         0.97862233,  0.97387173,  0.97862233,  0.97624703,  0.97624703,\n",
       "         0.97862233,  0.97862233]),\n",
       " 'split0_train_score': array([ 1.,  1.,  1.,  1.,  1.,  1.,  1.,  1.,  1.,  1.,  1.,  1.,  1.,\n",
       "         1.,  1.,  1.,  1.,  1.,  1.,  1.,  1.,  1.,  1.,  1.,  1.,  1.,  1.]),\n",
       " 'split1_test_score': array([ 0.98019802,  0.98267327,  0.98514851,  0.98267327,  0.98514851,\n",
       "         0.98762376,  0.98267327,  0.98514851,  0.98267327,  0.98019802,\n",
       "         0.98019802,  0.98267327,  0.98019802,  0.98267327,  0.98019802,\n",
       "         0.98019802,  0.98019802,  0.98267327,  0.98019802,  0.98019802,\n",
       "         0.98019802,  0.98019802,  0.98019802,  0.98019802,  0.98019802,\n",
       "         0.98019802,  0.98019802]),\n",
       " 'split1_train_score': array([ 1.,  1.,  1.,  1.,  1.,  1.,  1.,  1.,  1.,  1.,  1.,  1.,  1.,\n",
       "         1.,  1.,  1.,  1.,  1.,  1.,  1.,  1.,  1.,  1.,  1.,  1.,  1.,  1.]),\n",
       " 'split2_test_score': array([ 0.97409326,  0.98186528,  0.98186528,  0.97409326,  0.98186528,\n",
       "         0.98445596,  0.97668394,  0.98186528,  0.97927461,  0.97668394,\n",
       "         0.97668394,  0.98186528,  0.97409326,  0.97927461,  0.97668394,\n",
       "         0.97409326,  0.97927461,  0.98186528,  0.97668394,  0.97668394,\n",
       "         0.97668394,  0.97409326,  0.97409326,  0.97668394,  0.97409326,\n",
       "         0.97409326,  0.97409326]),\n",
       " 'split2_train_score': array([ 1.,  1.,  1.,  1.,  1.,  1.,  1.,  1.,  1.,  1.,  1.,  1.,  1.,\n",
       "         1.,  1.,  1.,  1.,  1.,  1.,  1.,  1.,  1.,  1.,  1.,  1.,  1.,  1.]),\n",
       " 'split3_test_score': array([ 0.98898072,  0.99449036,  0.99449036,  0.99449036,  0.99724518,\n",
       "         0.99449036,  0.99449036,  0.99449036,  0.99724518,  0.98071625,\n",
       "         0.98071625,  0.99449036,  0.98347107,  0.9862259 ,  0.99173554,\n",
       "         0.98347107,  0.99173554,  0.99173554,  0.97796143,  0.98071625,\n",
       "         0.9862259 ,  0.97796143,  0.9862259 ,  0.98898072,  0.98071625,\n",
       "         0.98347107,  0.99173554]),\n",
       " 'split3_train_score': array([ 1.,  1.,  1.,  1.,  1.,  1.,  1.,  1.,  1.,  1.,  1.,  1.,  1.,\n",
       "         1.,  1.,  1.,  1.,  1.,  1.,  1.,  1.,  1.,  1.,  1.,  1.,  1.,  1.]),\n",
       " 'split4_test_score': array([ 0.9713467 ,  0.97421203,  0.97421203,  0.97421203,  0.97994269,\n",
       "         0.97707736,  0.97421203,  0.97707736,  0.9713467 ,  0.9713467 ,\n",
       "         0.97994269,  0.97994269,  0.9713467 ,  0.97421203,  0.97994269,\n",
       "         0.9713467 ,  0.97421203,  0.97421203,  0.96561605,  0.97421203,\n",
       "         0.97994269,  0.96848138,  0.97421203,  0.97994269,  0.96848138,\n",
       "         0.97421203,  0.9713467 ]),\n",
       " 'split4_train_score': array([ 1.,  1.,  1.,  1.,  1.,  1.,  1.,  1.,  1.,  1.,  1.,  1.,  1.,\n",
       "         1.,  1.,  1.,  1.,  1.,  1.,  1.,  1.,  1.,  1.,  1.,  1.,  1.,  1.]),\n",
       " 'std_fit_time': array([   0.87277028,    0.59964681,    0.69524405,    2.14108932,\n",
       "           0.45254356,    0.68837367,    2.20471104,    0.69106152,\n",
       "           0.96034798,    0.95189697,    1.14477896,    0.66990254,\n",
       "           0.6322492 ,    0.65597939,    0.65835754,    0.78636889,\n",
       "           0.65014241,    0.49628986,    8.86783608,    2.30367945,\n",
       "           1.10964805,    1.93840885,    0.50751047,    1.77931966,\n",
       "           0.82970579,    1.20489166,  188.01147263]),\n",
       " 'std_score_time': array([ 0.04305752,  0.02600802,  0.03276873,  0.02821786,  0.025156  ,\n",
       "         0.0348021 ,  0.02025607,  0.03338284,  0.047137  ,  0.02666766,\n",
       "         0.03671358,  0.0595008 ,  0.02623763,  0.02834187,  0.02464801,\n",
       "         0.0411622 ,  0.02206003,  0.02829887,  0.01551283,  0.03013561,\n",
       "         0.04741407,  0.01372377,  0.03265241,  0.06032043,  0.05247103,\n",
       "         0.02730956,  0.02708693]),\n",
       " 'std_test_score': array([ 0.00595992,  0.00655375,  0.00627886,  0.0073525 ,  0.006593  ,\n",
       "         0.00673916,  0.0068121 ,  0.00553075,  0.00813475,  0.00327776,\n",
       "         0.00144469,  0.00556474,  0.00420919,  0.00391946,  0.00519545,\n",
       "         0.00420919,  0.00593445,  0.00539593,  0.00491527,  0.00232787,\n",
       "         0.00314505,  0.00393523,  0.00436799,  0.00452406,  0.00434713,\n",
       "         0.0035203 ,  0.00680977]),\n",
       " 'std_train_score': array([ 0.,  0.,  0.,  0.,  0.,  0.,  0.,  0.,  0.,  0.,  0.,  0.,  0.,\n",
       "         0.,  0.,  0.,  0.,  0.,  0.,  0.,  0.,  0.,  0.,  0.,  0.,  0.,  0.])}"
      ]
     },
     "execution_count": 574,
     "metadata": {},
     "output_type": "execute_result"
    }
   ],
   "source": [
    "grid_search.cv_results_"
   ]
  },
  {
   "cell_type": "code",
   "execution_count": 572,
   "metadata": {
    "collapsed": false
   },
   "outputs": [
    {
     "data": {
      "text/plain": [
       "0.98130841121495327"
      ]
     },
     "execution_count": 572,
     "metadata": {},
     "output_type": "execute_result"
    }
   ],
   "source": [
    "eclf1.set_params(**grid_search.best_params_)\n",
    "eclf1.fit(X_train, y_train)\n",
    "sum(eclf1.predict(X_test) == y_test)/len(y_test)"
   ]
  },
  {
   "cell_type": "code",
   "execution_count": 573,
   "metadata": {
    "collapsed": false,
    "scrolled": true
   },
   "outputs": [
    {
     "name": "stdout",
     "output_type": "stream",
     "text": [
      "              precision    recall  f1-score   support\n",
      "\n",
      "         God       1.00      1.00      1.00         5\n",
      "           I       1.00      1.00      1.00         6\n",
      "      Norway       1.00      1.00      1.00         8\n",
      "       alive       1.00      1.00      1.00         6\n",
      "         all       1.00      1.00      1.00         6\n",
      "      answer       1.00      1.00      1.00         5\n",
      "         boy       1.00      1.00      1.00        10\n",
      "    building       1.00      1.00      1.00         4\n",
      "         buy       1.00      1.00      1.00         8\n",
      "change_mind_       1.00      1.00      1.00         3\n",
      "        cold       1.00      1.00      1.00         9\n",
      "        come       1.00      1.00      1.00         7\n",
      "computer_PC_       1.00      1.00      1.00         5\n",
      "        cost       1.00      1.00      1.00         8\n",
      "       crazy       0.67      0.50      0.57         4\n",
      "      danger       0.90      1.00      0.95         9\n",
      "        deaf       1.00      1.00      1.00        10\n",
      "   different       1.00      1.00      1.00        12\n",
      "        draw       1.00      1.00      1.00         5\n",
      "       drink       1.00      1.00      1.00         9\n",
      "         eat       0.80      1.00      0.89         4\n",
      "        exit       1.00      1.00      1.00         6\n",
      "       flash       1.00      1.00      1.00         7\n",
      "      forget       0.90      1.00      0.95         9\n",
      "        girl       1.00      1.00      1.00         3\n",
      "        give       1.00      1.00      1.00         7\n",
      "       glove       1.00      0.88      0.93         8\n",
      "          go       1.00      1.00      1.00         8\n",
      "       happy       0.86      1.00      0.92         6\n",
      "        head       1.00      1.00      1.00         6\n",
      "        hear       1.00      1.00      1.00         6\n",
      "       hello       1.00      1.00      1.00         3\n",
      "    his_hers       1.00      1.00      1.00         6\n",
      "         hot       1.00      1.00      1.00         7\n",
      "         how       0.80      1.00      0.89         4\n",
      "       hurry       1.00      1.00      1.00         7\n",
      "        hurt       1.00      1.00      1.00         9\n",
      "    innocent       1.00      0.83      0.91         6\n",
      "    is_true_       1.00      1.00      1.00         7\n",
      "        joke       1.00      1.00      1.00         7\n",
      "       juice       1.00      1.00      1.00         7\n",
      "        know       1.00      0.89      0.94         9\n",
      "       later       1.00      1.00      1.00         4\n",
      "        lose       1.00      1.00      1.00        10\n",
      "        love       1.00      1.00      1.00         5\n",
      "        make       1.00      1.00      1.00         9\n",
      "         man       0.75      1.00      0.86         3\n",
      "       maybe       1.00      0.86      0.92         7\n",
      "        mine       1.00      1.00      1.00         5\n",
      "       money       1.00      1.00      1.00         9\n",
      "        more       1.00      0.88      0.93         8\n",
      "        name       1.00      1.00      1.00         5\n",
      "          no       1.00      1.00      1.00         8\n",
      "         not       1.00      1.00      1.00         3\n",
      "       paper       1.00      1.00      1.00         5\n",
      "         pen       1.00      1.00      1.00         7\n",
      "      please       1.00      1.00      1.00         4\n",
      "      polite       1.00      1.00      1.00         9\n",
      "    question       1.00      0.89      0.94         9\n",
      "        read       1.00      1.00      1.00        11\n",
      "       ready       1.00      1.00      1.00         2\n",
      "    research       1.00      1.00      1.00         3\n",
      " responsible       1.00      1.00      1.00        10\n",
      "       right       1.00      1.00      1.00         7\n",
      "         sad       1.00      1.00      1.00         8\n",
      "        same       1.00      1.00      1.00        11\n",
      "     science       1.00      1.00      1.00         7\n",
      "       share       1.00      1.00      1.00        10\n",
      "        shop       0.83      1.00      0.91         5\n",
      "        soon       1.00      1.00      1.00         6\n",
      "       sorry       1.00      0.90      0.95        10\n",
      "       spend       1.00      1.00      1.00         7\n",
      "    stubborn       1.00      1.00      1.00         6\n",
      "    surprise       1.00      1.00      1.00         7\n",
      "        take       1.00      1.00      1.00         9\n",
      "      temper       1.00      1.00      1.00         3\n",
      "       thank       1.00      1.00      1.00         6\n",
      "       think       0.71      0.83      0.77         6\n",
      "        tray       1.00      1.00      1.00         3\n",
      "          us       1.00      0.86      0.92         7\n",
      "   voluntary       1.00      1.00      1.00         6\n",
      "wait_notyet_       1.00      1.00      1.00        10\n",
      "        what       1.00      1.00      1.00         4\n",
      "        when       1.00      1.00      1.00        10\n",
      "       where       1.00      0.86      0.92         7\n",
      "       which       1.00      1.00      1.00         4\n",
      "         who       1.00      1.00      1.00         7\n",
      "         why       1.00      1.00      1.00         3\n",
      "        wild       1.00      1.00      1.00         8\n",
      "        will       0.92      1.00      0.96        12\n",
      "       write       0.88      1.00      0.93         7\n",
      "       wrong       1.00      1.00      1.00         5\n",
      "         yes       1.00      1.00      1.00         6\n",
      "         you       1.00      1.00      1.00        10\n",
      "        zero       1.00      1.00      1.00         8\n",
      "\n",
      " avg / total       0.98      0.98      0.98       642\n",
      "\n"
     ]
    }
   ],
   "source": [
    "print(classification_report(y_test, eclf1.predict(X_test)))"
   ]
  },
  {
   "cell_type": "code",
   "execution_count": 321,
   "metadata": {
    "collapsed": false
   },
   "outputs": [
    {
     "name": "stdout",
     "output_type": "stream",
     "text": [
      "[[ 5  0  0 ...,  0  0  0]\n",
      " [ 0  6  0 ...,  0  0  0]\n",
      " [ 0  0  8 ...,  0  0  0]\n",
      " ..., \n",
      " [ 0  0  0 ...,  6  0  0]\n",
      " [ 0  0  0 ...,  0 10  0]\n",
      " [ 0  0  0 ...,  0  0  8]]\n"
     ]
    }
   ],
   "source": [
    "print(confusion_matrix(y_test, eclf1.predict(X_test), labels = eclf1.classes_))"
   ]
  },
  {
   "cell_type": "code",
   "execution_count": 324,
   "metadata": {
    "collapsed": false
   },
   "outputs": [],
   "source": [
    "import pandas_ml as pdml"
   ]
  },
  {
   "cell_type": "code",
   "execution_count": 518,
   "metadata": {
    "collapsed": false
   },
   "outputs": [
    {
     "data": {
      "text/plain": [
       "Predicted     God  I  Norway  alive  all  answer  boy  building  buy  \\\n",
       "Actual                                                                 \n",
       "God             7  0       0      0    0       0    0         0    0   \n",
       "I               0  5       0      0    0       0    0         0    0   \n",
       "Norway          0  0      11      0    0       0    0         0    0   \n",
       "alive           0  0       0      6    0       0    0         0    0   \n",
       "all             0  0       0      0    7       0    0         0    0   \n",
       "answer          0  0       0      0    0       4    0         0    0   \n",
       "boy             0  0       0      0    0       0    8         0    0   \n",
       "building        0  0       0      0    0       0    0         9    0   \n",
       "buy             0  0       0      0    0       0    0         0    6   \n",
       "change_mind_    0  0       0      0    0       0    0         0    0   \n",
       "cold            0  0       0      0    0       0    0         0    0   \n",
       "come            0  0       0      0    0       0    0         0    0   \n",
       "computer_PC_    0  0       0      0    0       0    0         0    0   \n",
       "cost            0  0       0      0    0       0    0         0    0   \n",
       "crazy           0  0       0      0    0       0    2         0    0   \n",
       "danger          0  0       0      0    0       0    0         0    0   \n",
       "deaf            0  0       0      0    0       0    0         0    0   \n",
       "different       0  0       0      0    0       0    0         0    0   \n",
       "draw            0  0       0      0    0       0    0         0    0   \n",
       "drink           0  0       0      0    0       0    0         0    0   \n",
       "eat             0  0       0      0    0       0    0         0    0   \n",
       "exit            0  0       0      0    0       0    0         0    0   \n",
       "flash           0  0       0      0    0       0    0         0    0   \n",
       "forget          0  0       0      0    0       0    0         0    0   \n",
       "girl            0  0       0      0    0       0    0         0    0   \n",
       "give            0  0       0      0    0       0    0         0    0   \n",
       "glove           0  0       0      0    0       0    0         0    0   \n",
       "go              0  0       0      0    0       0    0         0    0   \n",
       "happy           0  0       0      0    0       0    0         0    0   \n",
       "head            0  0       0      0    0       0    0         0    0   \n",
       "...           ... ..     ...    ...  ...     ...  ...       ...  ...   \n",
       "science         0  0       0      0    0       0    0         0    0   \n",
       "share           0  0       0      0    0       0    0         0    0   \n",
       "shop            0  0       0      0    0       0    0         0    0   \n",
       "soon            0  0       0      0    0       0    0         0    0   \n",
       "sorry           0  0       0      0    0       0    0         0    0   \n",
       "spend           0  0       0      0    0       0    0         0    0   \n",
       "stubborn        0  0       0      0    0       0    0         0    0   \n",
       "surprise        0  0       0      0    0       0    0         0    0   \n",
       "take            0  0       0      0    0       0    0         0    0   \n",
       "temper          0  0       0      0    0       0    0         0    0   \n",
       "thank           0  0       0      0    0       0    0         0    0   \n",
       "think           0  0       0      0    0       0    0         0    0   \n",
       "tray            0  0       0      0    0       0    0         0    0   \n",
       "us              0  0       0      0    0       0    0         0    0   \n",
       "voluntary       0  0       0      0    0       0    0         0    0   \n",
       "wait_notyet_    0  0       0      0    0       0    0         0    0   \n",
       "what            0  0       0      0    0       0    0         0    0   \n",
       "when            0  0       0      0    0       0    0         0    0   \n",
       "where           0  0       0      0    0       0    0         0    0   \n",
       "which           0  0       0      0    0       0    0         0    0   \n",
       "who             0  0       0      0    0       0    0         0    0   \n",
       "why             0  0       0      0    0       0    0         0    0   \n",
       "wild            0  0       0      0    0       0    0         0    0   \n",
       "will            0  0       0      0    0       0    0         0    0   \n",
       "write           0  0       0      0    0       0    0         0    0   \n",
       "wrong           0  0       0      0    0       0    0         0    0   \n",
       "yes             0  0       0      0    0       0    0         0    0   \n",
       "you             0  0       0      0    0       0    0         0    0   \n",
       "zero            0  0       0      0    0       0    0         0    0   \n",
       "__all__         7  5      11      6    7       4   10         9    6   \n",
       "\n",
       "Predicted     change_mind_   ...     who  why  wild  will  write  wrong  yes  \\\n",
       "Actual                       ...                                               \n",
       "God                      0   ...       0    0     0     0      0      0    0   \n",
       "I                        0   ...       0    0     0     0      0      0    0   \n",
       "Norway                   0   ...       0    0     0     0      0      0    0   \n",
       "alive                    0   ...       0    0     0     0      0      0    0   \n",
       "all                      0   ...       0    0     0     0      0      0    0   \n",
       "answer                   0   ...       0    0     0     0      0      0    0   \n",
       "boy                      0   ...       0    0     0     0      0      0    0   \n",
       "building                 0   ...       0    0     0     0      0      0    0   \n",
       "buy                      0   ...       0    0     0     0      0      0    0   \n",
       "change_mind_             2   ...       0    0     0     0      0      0    0   \n",
       "cold                     0   ...       0    0     0     0      0      0    0   \n",
       "come                     0   ...       0    0     0     0      0      0    0   \n",
       "computer_PC_             0   ...       0    0     0     0      0      0    0   \n",
       "cost                     0   ...       0    0     0     0      0      0    0   \n",
       "crazy                    0   ...       0    0     0     0      0      0    0   \n",
       "danger                   0   ...       0    0     0     0      0      0    0   \n",
       "deaf                     0   ...       0    0     0     0      0      0    0   \n",
       "different                0   ...       0    0     0     0      0      0    0   \n",
       "draw                     0   ...       0    0     0     0      0      0    0   \n",
       "drink                    0   ...       0    0     0     0      0      0    0   \n",
       "eat                      0   ...       0    0     0     0      0      0    0   \n",
       "exit                     0   ...       0    0     0     0      0      0    0   \n",
       "flash                    0   ...       0    0     0     0      0      0    0   \n",
       "forget                   0   ...       0    0     0     0      0      0    0   \n",
       "girl                     0   ...       0    0     0     0      0      0    0   \n",
       "give                     0   ...       0    0     0     0      0      0    0   \n",
       "glove                    0   ...       0    0     0     0      0      0    0   \n",
       "go                       0   ...       0    0     0     0      0      0    0   \n",
       "happy                    0   ...       0    0     0     0      0      0    0   \n",
       "head                     0   ...       0    0     0     0      0      0    0   \n",
       "...                    ...   ...     ...  ...   ...   ...    ...    ...  ...   \n",
       "science                  0   ...       0    0     0     0      0      0    0   \n",
       "share                    0   ...       0    0     0     0      0      0    0   \n",
       "shop                     0   ...       0    0     0     0      0      0    0   \n",
       "soon                     0   ...       1    0     0     0      0      0    0   \n",
       "sorry                    0   ...       0    0     0     0      0      0    0   \n",
       "spend                    0   ...       0    0     0     0      0      0    0   \n",
       "stubborn                 0   ...       0    0     0     0      0      0    0   \n",
       "surprise                 0   ...       0    0     0     0      0      0    0   \n",
       "take                     0   ...       0    0     0     0      0      0    0   \n",
       "temper                   0   ...       0    0     0     0      0      0    0   \n",
       "thank                    0   ...       0    0     0     0      0      0    0   \n",
       "think                    0   ...       0    0     0     0      0      0    0   \n",
       "tray                     0   ...       0    0     0     0      0      0    0   \n",
       "us                       0   ...       0    0     0     0      0      0    0   \n",
       "voluntary                0   ...       0    0     0     0      0      0    0   \n",
       "wait_notyet_             0   ...       0    0     0     0      0      0    0   \n",
       "what                     0   ...       0    0     0     0      0      0    0   \n",
       "when                     0   ...       0    0     0     0      0      0    0   \n",
       "where                    0   ...       0    0     0     0      0      0    0   \n",
       "which                    0   ...       0    0     0     0      0      0    0   \n",
       "who                      0   ...       8    0     0     0      0      0    0   \n",
       "why                      0   ...       0    8     0     0      0      0    0   \n",
       "wild                     0   ...       0    0     7     0      0      0    0   \n",
       "will                     0   ...       0    0     0     5      0      0    0   \n",
       "write                    0   ...       0    0     0     0      7      0    0   \n",
       "wrong                    0   ...       0    0     0     0      0     11    0   \n",
       "yes                      0   ...       0    0     0     0      0      0   12   \n",
       "you                      0   ...       0    0     0     0      0      0    0   \n",
       "zero                     0   ...       0    0     0     0      0      0    0   \n",
       "__all__                  2   ...       9    8     7     5      7     11   12   \n",
       "\n",
       "Predicted     you  zero  __all__  \n",
       "Actual                            \n",
       "God             0     0        7  \n",
       "I               0     0        5  \n",
       "Norway          0     0       11  \n",
       "alive           0     0        6  \n",
       "all             0     0        7  \n",
       "answer          0     0        4  \n",
       "boy             0     0        8  \n",
       "building        0     0        9  \n",
       "buy             0     0        6  \n",
       "change_mind_    0     0        2  \n",
       "cold            0     0        7  \n",
       "come            0     0        9  \n",
       "computer_PC_    0     0        5  \n",
       "cost            0     0        7  \n",
       "crazy           0     0       10  \n",
       "danger          0     0        7  \n",
       "deaf            0     0        3  \n",
       "different       0     0        5  \n",
       "draw            0     0        9  \n",
       "drink           0     0        6  \n",
       "eat             0     0        4  \n",
       "exit            0     0        7  \n",
       "flash           0     0       10  \n",
       "forget          0     0        5  \n",
       "girl            0     0        9  \n",
       "give            0     0        6  \n",
       "glove           0     0        7  \n",
       "go              0     0        8  \n",
       "happy           0     0       10  \n",
       "head            0     0        4  \n",
       "...           ...   ...      ...  \n",
       "science         0     0        9  \n",
       "share           0     0        5  \n",
       "shop            0     0        7  \n",
       "soon            0     0        9  \n",
       "sorry           0     0        3  \n",
       "spend           0     0        4  \n",
       "stubborn        0     0        2  \n",
       "surprise        0     0        9  \n",
       "take            0     0        9  \n",
       "temper          0     0        2  \n",
       "thank           0     0        6  \n",
       "think           0     0        8  \n",
       "tray            0     0        7  \n",
       "us              0     0       11  \n",
       "voluntary       0     0        6  \n",
       "wait_notyet_    0     0        5  \n",
       "what            0     0        8  \n",
       "when            0     0        5  \n",
       "where           0     0        5  \n",
       "which           0     0        5  \n",
       "who             0     0        8  \n",
       "why             0     0        8  \n",
       "wild            0     0        7  \n",
       "will            0     0        6  \n",
       "write           0     0        7  \n",
       "wrong           0     0       11  \n",
       "yes             0     0       13  \n",
       "you             6     0        6  \n",
       "zero            0     3        3  \n",
       "__all__         6     3      642  \n",
       "\n",
       "[96 rows x 96 columns]"
      ]
     },
     "execution_count": 518,
     "metadata": {},
     "output_type": "execute_result"
    }
   ],
   "source": [
    "y_pred = eclf1.predict(X_test)\n",
    "pdml.ConfusionMatrix(list(y_test), y_pred)"
   ]
  },
  {
   "cell_type": "code",
   "execution_count": 458,
   "metadata": {
    "collapsed": false
   },
   "outputs": [
    {
     "data": {
      "text/plain": [
       "<matplotlib.axes._subplots.AxesSubplot at 0x1cd13711b70>"
      ]
     },
     "execution_count": 458,
     "metadata": {},
     "output_type": "execute_result"
    },
    {
     "data": {
      "image/png": "[encoded data removed]",
      "text/plain": [
       "<matplotlib.figure.Figure at 0x1cd148ebc18>"
      ]
     },
     "metadata": {},
     "output_type": "display_data"
    }
   ],
   "source": [
    "%matplotlib inline\n",
    "ax = X.ix[:,110:220].ix['tctodd1crazy1.0'].plot(figsize=(10,6), legend='crazy', label='crazy')\n",
    "X.ix[:,110:220].ix['tctodd1boy1.0'].plot(ax=ax, figsize=(10,6), label='boy', legend='boy')"
   ]
  },
  {
   "cell_type": "code",
   "execution_count": 485,
   "metadata": {
    "collapsed": false
   },
   "outputs": [
    {
     "data": {
      "text/plain": [
       "Index(['fore_R__number_cwt_peaks__n_5', 'little_R__number_cwt_peaks__n_5',\n",
       "       'ring_R__number_cwt_peaks__n_5', 'middle_R__number_cwt_peaks__n_1',\n",
       "       'middle_R__number_cwt_peaks__n_5', 'thumb_R__number_cwt_peaks__n_5',\n",
       "       'yaw_R__number_cwt_peaks__n_1', 'y_R__number_cwt_peaks__n_5',\n",
       "       'pitch_R__number_cwt_peaks__n_5', 'yaw_R__number_cwt_peaks__n_5',\n",
       "       'pitch_R__number_cwt_peaks__n_1', 'thumb_R__number_cwt_peaks__n_1',\n",
       "       'x_R__number_cwt_peaks__n_5', 'roll_R__number_cwt_peaks__n_5',\n",
       "       'y_R__number_cwt_peaks__n_1', 'z_R__number_cwt_peaks__n_1',\n",
       "       'thumb_R__first_location_of_maximum', 'z_R__number_cwt_peaks__n_5',\n",
       "       'little_R__number_cwt_peaks__n_1', 'x_R__number_cwt_peaks__n_1',\n",
       "       'z_R__median', 'y_R__minimum', 'roll_R__number_cwt_peaks__n_1',\n",
       "       'x_R__median', 'little_R__median',\n",
       "       'little_R__first_location_of_maximum',\n",
       "       'ring_R__last_location_of_maximum', 'little_R__minimum',\n",
       "       'middle_R__first_location_of_maximum', 'thumb_R__median',\n",
       "       'thumb_R__last_location_of_maximum', 'y_R__median', 'middle_R__median',\n",
       "       'thumb_R__minimum', 'middle_R__minimum', 'z_R__sum_values',\n",
       "       'pitch_R__minimum', 'roll_R__median', 'z_R__mean',\n",
       "       'middle_R__last_location_of_maximum', 'yaw_R__mean', 'yaw_R__median',\n",
       "       'middle_R__skewness', 'pitch_R__median', 'yaw_R__sum_values',\n",
       "       'z_R__minimum', 'thumb_R__skewness', 'roll_R__mean',\n",
       "       'thumb_R__sum_values', 'yaw_R__minimum'],\n",
       "      dtype='object')"
      ]
     },
     "execution_count": 485,
     "metadata": {},
     "output_type": "execute_result"
    }
   ],
   "source": [
    "X2.columns[np.argsort(clf3.feature_importances_)[:50]]"
   ]
  },
  {
   "cell_type": "code",
   "execution_count": 472,
   "metadata": {
    "collapsed": false
   },
   "outputs": [
    {
     "data": {
      "text/plain": [
       "(array([14], dtype=int64),)"
      ]
     },
     "execution_count": 472,
     "metadata": {},
     "output_type": "execute_result"
    }
   ],
   "source": [
    "np.where(clf1.classes_ == 'crazy')"
   ]
  },
  {
   "cell_type": "code",
   "execution_count": 476,
   "metadata": {
    "collapsed": false
   },
   "outputs": [
    {
     "ename": "AttributeError",
     "evalue": "'LogisticRegression' object has no attribute 'feature_importances_'",
     "output_type": "error",
     "traceback": [
      "\u001b[0;31m---------------------------------------------------------------------------\u001b[0m",
      "\u001b[0;31mAttributeError\u001b[0m                            Traceback (most recent call last)",
      "\u001b[0;32m<ipython-input-476-763a27016fcf>\u001b[0m in \u001b[0;36m<module>\u001b[0;34m()\u001b[0m\n\u001b[0;32m----> 1\u001b[0;31m \u001b[0mclf1\u001b[0m\u001b[1;33m.\u001b[0m\u001b[0mfeature_importances_\u001b[0m\u001b[1;33m\u001b[0m\u001b[0m\n\u001b[0m",
      "\u001b[0;31mAttributeError\u001b[0m: 'LogisticRegression' object has no attribute 'feature_importances_'"
     ]
    }
   ],
   "source": [
    "clf1.feature_importances_"
   ]
  },
  {
   "cell_type": "code",
   "execution_count": 522,
   "metadata": {
    "collapsed": true
   },
   "outputs": [],
   "source": [
    "eclf2 = BaggingClassifier(eclf1)"
   ]
  },
  {
   "cell_type": "code",
   "execution_count": 523,
   "metadata": {
    "collapsed": false
   },
   "outputs": [
    {
     "data": {
      "text/plain": [
       "BaggingClassifier(base_estimator=VotingClassifier(estimators=[('lr', LogisticRegression(C=1, class_weight=None, dual=False, fit_intercept=True,\n",
       "          intercept_scaling=1, max_iter=100, multi_class='ovr', n_jobs=1,\n",
       "          penalty='l1', random_state=None, solver='liblinear', tol=0.0001,\n",
       "          verbose=0, warm_start=False)), ('svm', SVC(C=1,...n_jobs=1,\n",
       "            oob_score=False, random_state=None, verbose=0,\n",
       "            warm_start=False))],\n",
       "         n_jobs=1, voting='soft', weights=None),\n",
       "         bootstrap=True, bootstrap_features=False, max_features=1.0,\n",
       "         max_samples=1.0, n_estimators=10, n_jobs=1, oob_score=False,\n",
       "         random_state=None, verbose=0, warm_start=False)"
      ]
     },
     "execution_count": 523,
     "metadata": {},
     "output_type": "execute_result"
    }
   ],
   "source": [
    "eclf2.fit(X_train, y_train)"
   ]
  },
  {
   "cell_type": "code",
   "execution_count": 668,
   "metadata": {
    "collapsed": false
   },
   "outputs": [],
   "source": [
    "from keras.layers import LSTM\n",
    "# define baseline model\n",
    "def baseline_model(X, y):\n",
    "    # create model\n",
    "    # create model\n",
    "    model = Sequential()\n",
    "    model.add(LSTM(output_dim=300, input_dim=22\n",
    "                   ,activation='tanh',inner_activation='hard_sigmoid', return_sequences=False ))\n",
    "    #model.add(LSTM(output_dim =300 , activation='tanh',inner_activation='hard_sigmoid', return_sequences=False))\n",
    "    model.add(Dense(95, activation='sigmoid'))\n",
    "    # Compile model\n",
    "    model.compile(loss='mean_squared_error', optimizer='rmsprop', metrics=['accuracy'])\n",
    "    return model"
   ]
  },
  {
   "cell_type": "code",
   "execution_count": 585,
   "metadata": {
    "collapsed": false
   },
   "outputs": [
    {
     "data": {
      "text/plain": [
       "(25650, 24)"
      ]
     },
     "execution_count": 585,
     "metadata": {},
     "output_type": "execute_result"
    }
   ],
   "source": [
    "df.shape"
   ]
  },
  {
   "cell_type": "code",
   "execution_count": 588,
   "metadata": {
    "collapsed": false
   },
   "outputs": [],
   "source": [
    "n_features = 22\n",
    "n_samples = 2565\n",
    "n_steps = 10\n",
    "nn_X = np.zeros((2565, n_features, n_steps))"
   ]
  },
  {
   "cell_type": "code",
   "execution_count": 598,
   "metadata": {
    "collapsed": false
   },
   "outputs": [],
   "source": [
    "for row in range(n_samples):\n",
    "    for feature in range(n_features):\n",
    "        nn_X[row, feature,:] = df.iloc[row*n_steps:(row+1)*n_steps,feature]"
   ]
  },
  {
   "cell_type": "code",
   "execution_count": 606,
   "metadata": {
    "collapsed": true
   },
   "outputs": [],
   "source": [
    "nn_X = np.swapaxes(nn_X, 1, 2)"
   ]
  },
  {
   "cell_type": "code",
   "execution_count": 611,
   "metadata": {
    "collapsed": false
   },
   "outputs": [],
   "source": [
    "nn_y = signs_all_ts['label']"
   ]
  },
  {
   "cell_type": "code",
   "execution_count": 615,
   "metadata": {
    "collapsed": false
   },
   "outputs": [],
   "source": [
    "nn_y = le.fit_transform(nn_y)"
   ]
  },
  {
   "cell_type": "code",
   "execution_count": 626,
   "metadata": {
    "collapsed": false
   },
   "outputs": [],
   "source": [
    "y_one_hot = np.zeros((n_samples, 95))\n",
    "for i in range(n_samples):\n",
    "    y_one_hot[i, nn_y[i*n_steps]] = 1"
   ]
  },
  {
   "cell_type": "code",
   "execution_count": 669,
   "metadata": {
    "collapsed": false
   },
   "outputs": [
    {
     "name": "stderr",
     "output_type": "stream",
     "text": [
      "C:\\Users\\anura\\Anaconda3\\lib\\site-packages\\ipykernel\\__main__.py:8: UserWarning: The `input_dim` and `input_length` arguments in recurrent layers are deprecated. Use `input_shape` instead.\n",
      "C:\\Users\\anura\\Anaconda3\\lib\\site-packages\\ipykernel\\__main__.py:8: UserWarning: Update your `LSTM` call to the Keras 2 API: `LSTM(activation=\"tanh\", input_shape=(None, 22), recurrent_activation=\"hard_sigmoid\", return_sequences=False, units=300)`\n",
      "C:\\Users\\anura\\Anaconda3\\lib\\site-packages\\keras\\models.py:837: UserWarning: The `nb_epoch` argument in `fit` has been renamed `epochs`.\n",
      "  warnings.warn('The `nb_epoch` argument in `fit` '\n"
     ]
    },
    {
     "name": "stdout",
     "output_type": "stream",
     "text": [
      "Epoch 1/15\n",
      "1923/1923 [==============================] - 6s - loss: 0.0192 - acc: 0.0146     \n",
      "Epoch 2/15\n",
      "1923/1923 [==============================] - 5s - loss: 0.0103 - acc: 0.0640     \n",
      "Epoch 3/15\n",
      "1923/1923 [==============================] - 6s - loss: 0.0096 - acc: 0.1726     \n",
      "Epoch 4/15\n",
      "1923/1923 [==============================] - 5s - loss: 0.0079 - acc: 0.4046     \n",
      "Epoch 5/15\n",
      "1923/1923 [==============================] - 5s - loss: 0.0055 - acc: 0.6677     \n",
      "Epoch 6/15\n",
      "1923/1923 [==============================] - 5s - loss: 0.0034 - acc: 0.8388     \n",
      "Epoch 7/15\n",
      "1923/1923 [==============================] - 5s - loss: 0.0022 - acc: 0.9054     \n",
      "Epoch 8/15\n",
      "1923/1923 [==============================] - 5s - loss: 0.0014 - acc: 0.9392     \n",
      "Epoch 9/15\n",
      "1923/1923 [==============================] - 5s - loss: 0.0011 - acc: 0.9542     \n",
      "Epoch 10/15\n",
      "1923/1923 [==============================] - 5s - loss: 8.5806e-04 - acc: 0.9589     \n",
      "Epoch 11/15\n",
      "1923/1923 [==============================] - 6s - loss: 6.7745e-04 - acc: 0.9672     \n",
      "Epoch 12/15\n",
      "1923/1923 [==============================] - 5s - loss: 5.0997e-04 - acc: 0.9750     \n",
      "Epoch 13/15\n",
      "1923/1923 [==============================] - 5s - loss: 4.8184e-04 - acc: 0.9756     \n",
      "Epoch 14/15\n",
      "1923/1923 [==============================] - 5s - loss: 3.3156e-04 - acc: 0.9854     \n",
      "Epoch 15/15\n",
      "1923/1923 [==============================] - 5s - loss: 2.9540e-04 - acc: 0.9875     \n"
     ]
    },
    {
     "data": {
      "text/plain": [
       "<keras.callbacks.History at 0x1d04c895c88>"
      ]
     },
     "execution_count": 669,
     "metadata": {},
     "output_type": "execute_result"
    }
   ],
   "source": [
    "X_train, X_test, y_train, y_test = train_test_split(nn_X, y_one_hot, test_size=0.25, random_state = 42)\n",
    "model = baseline_model(X_train, y_train)\n",
    "model.fit(X_train, y_train,  batch_size=16, nb_epoch=15)"
   ]
  },
  {
   "cell_type": "code",
   "execution_count": 672,
   "metadata": {
    "collapsed": false
   },
   "outputs": [
    {
     "name": "stdout",
     "output_type": "stream",
     "text": [
      "2496/2565 [============================>.] - ETA: 0s"
     ]
    },
    {
     "data": {
      "text/plain": [
       "[0.0002814265933598312, 0.98557504873294344]"
      ]
     },
     "execution_count": 672,
     "metadata": {},
     "output_type": "execute_result"
    }
   ],
   "source": [
    "model.evaluate(nn_X, y_one_hot)"
   ]
  },
  {
   "cell_type": "code",
   "execution_count": 673,
   "metadata": {
    "collapsed": true
   },
   "outputs": [],
   "source": [
    "batch_size = [10, 20, 40]\n",
    "param_grid = {'nb_epoch':[15, 20, 25],\n",
    "             'batch_size':batch_size}"
   ]
  },
  {
   "cell_type": "code",
   "execution_count": null,
   "metadata": {
    "collapsed": false
   },
   "outputs": [],
   "source": [
    "model = KerasClassifier(build_fn=baseline_model, epochs=15, batch_size=16)\n",
    "grid_search = GridSearchCV(estimator=model, param_grid=param_grid, n_jobs=-1, verbose=3)"
   ]
  },
  {
   "cell_type": "code",
   "execution_count": null,
   "metadata": {
    "collapsed": false
   },
   "outputs": [
    {
     "name": "stdout",
     "output_type": "stream",
     "text": [
      "Fitting 3 folds for each of 9 candidates, totalling 27 fits\n"
     ]
    }
   ],
   "source": [
    "grid_search.fit(X_train, y_train)"
   ]
  },
  {
   "cell_type": "code",
   "execution_count": null,
   "metadata": {
    "collapsed": true
   },
   "outputs": [],
   "source": []
  }
 ],
 "metadata": {
  "kernelspec": {
   "display_name": "Python [conda root]",
   "language": "python",
   "name": "conda-root-py"
  },
  "language_info": {
   "codemirror_mode": {
    "name": "ipython",
    "version": 3
   },
   "file_extension": ".py",
   "mimetype": "text/x-python",
   "name": "python",
   "nbconvert_exporter": "python",
   "pygments_lexer": "ipython3",
   "version": "3.5.2"
  }
 },
 "nbformat": 4,
 "nbformat_minor": 1
}
