{
 "cells": [
  {
   "cell_type": "code",
   "execution_count": 98,
   "metadata": {
    "collapsed": false
   },
   "outputs": [],
   "source": [
    "import pandas as pd\n",
    "import glob\n",
    "import matplotlib\n",
    "import numpy as np\n",
    "%matplotlib inline\n",
    "matplotlib.style.use('ggplot')\n",
    "import matplotlib.pyplot as plt\n",
    "import os"
   ]
  },
  {
   "cell_type": "code",
   "execution_count": 111,
   "metadata": {
    "collapsed": true
   },
   "outputs": [],
   "source": [
    "def import_folder(folder):\n",
    "    filenames = glob.glob(\"data/\" + folder + \"/*.tsd\")\n",
    "\n",
    "    files = [file.split('\\\\')[1].split('.')[0] for file in filenames]\n",
    "\n",
    "    signs = pd.DataFrame()\n",
    "    for filename in files:\n",
    "        df = pd.read_table('data/' + folder +'/' + filename + '.tsd', header=None)\n",
    "        label = filename.split('-')[0]\n",
    "        ID = filename.rsplit('-', 1)[1]\n",
    "        df['label'] = label\n",
    "        df['ID'] = int(ID)\n",
    "        df.columns = ['x_L','y_L','z_L','roll_L','pitch_L','yaw_L','thumb_L','fore_L','middle_L','ring_L','little_L','x_R','y_R','z_R','roll_R','pitch_R','yaw_R','thumb_R','fore_R','middle_R','ring_R','little_R', 'label', 'ID']\n",
    "        signs = signs.append(df)\n",
    "        \n",
    "    return signs\n"
   ]
  },
  {
   "cell_type": "code",
   "execution_count": 112,
   "metadata": {
    "collapsed": true
   },
   "outputs": [],
   "source": [
    "def temporal_scale(signs):\n",
    "    IDs = signs['ID'].drop_duplicates().values\n",
    "    labels = signs['label'].drop_duplicates().values\n",
    "    signs_new = pd.DataFrame(columns = signs.columns)\n",
    "    for ID in IDs:\n",
    "        for sign in labels:\n",
    "\n",
    "            df = signs[(signs['ID'] == ID) & (signs['label'] == sign)]\n",
    "\n",
    "            df = df[['x_L', 'y_L', 'z_L', 'roll_L', 'pitch_L', 'yaw_L', 'thumb_L', 'fore_L',\n",
    "                   'middle_L', 'ring_L', 'little_L', 'x_R', 'y_R', 'z_R', 'roll_R',\n",
    "                   'pitch_R', 'yaw_R', 'thumb_R', 'fore_R', 'middle_R', 'ring_R',\n",
    "                   'little_R']]\n",
    "\n",
    "            df_new = pd.DataFrame(index=np.arange(57), columns = df.columns)\n",
    "\n",
    "            for column in df:    \n",
    "                column_resample = np.fft.irfft(np.fft.rfft(df[column]), 57)\n",
    "                df_new[column] = column_resample\n",
    "\n",
    "            df_new['label'] = sign\n",
    "            df_new['ID'] = ID\n",
    "            signs_new = signs_new.append(df_new)\n",
    "    return signs_new\n",
    "    "
   ]
  },
  {
   "cell_type": "code",
   "execution_count": 113,
   "metadata": {
    "collapsed": false
   },
   "outputs": [],
   "source": [
    "root='data'\n",
    "signs_all = pd.DataFrame()\n",
    "signs_all_ts = pd.DataFrame()\n",
    "dirlist = [ item for item in os.listdir(root) if os.path.isdir(os.path.join(root, item)) ]\n",
    "for folder in dirlist:\n",
    "    signs = import_folder(folder)\n",
    "    signs_ts = temporal_scale(signs)\n",
    "    signs_all = signs_all.append(signs)\n",
    "    signs_all_ts = signs_all_ts.append(signs_ts)"
   ]
  },
  {
   "cell_type": "code",
   "execution_count": 5,
   "metadata": {
    "collapsed": false
   },
   "outputs": [],
   "source": []
  },
  {
   "cell_type": "code",
   "execution_count": 10,
   "metadata": {
    "collapsed": false
   },
   "outputs": [],
   "source": [
    "Ids = signs['ID'].drop_duplicates().values"
   ]
  },
  {
   "cell_type": "code",
   "execution_count": 11,
   "metadata": {
    "collapsed": false
   },
   "outputs": [
    {
     "name": "stderr",
     "output_type": "stream",
     "text": [
      "C:\\Users\\anura\\Anaconda3\\lib\\site-packages\\ipykernel\\__main__.py:4: SettingWithCopyWarning: \n",
      "A value is trying to be set on a copy of a slice from a DataFrame.\n",
      "Try using .loc[row_indexer,col_indexer] = value instead\n",
      "\n",
      "See the caveats in the documentation: http://pandas.pydata.org/pandas-docs/stable/indexing.html#indexing-view-versus-copy\n"
     ]
    },
    {
     "data": {
      "image/png": "[encoded data removed]",
      "text/plain": [
       "<matplotlib.figure.Figure at 0x1769083c668>"
      ]
     },
     "metadata": {},
     "output_type": "display_data"
    }
   ],
   "source": [
    "plot_x(Ids[0])"
   ]
  },
  {
   "cell_type": "code",
   "execution_count": 14,
   "metadata": {
    "collapsed": false
   },
   "outputs": [
    {
     "ename": "IndexError",
     "evalue": "index 3 is out of bounds for axis 0 with size 3",
     "output_type": "error",
     "traceback": [
      "\u001b[0;31m---------------------------------------------------------------------------\u001b[0m",
      "\u001b[0;31mIndexError\u001b[0m                                Traceback (most recent call last)",
      "\u001b[0;32m<ipython-input-14-e96de49da7c2>\u001b[0m in \u001b[0;36m<module>\u001b[0;34m()\u001b[0m\n\u001b[0;32m----> 1\u001b[0;31m \u001b[0mplot_x\u001b[0m\u001b[1;33m(\u001b[0m\u001b[0mIds\u001b[0m\u001b[1;33m[\u001b[0m\u001b[1;36m3\u001b[0m\u001b[1;33m]\u001b[0m\u001b[1;33m)\u001b[0m\u001b[1;33m\u001b[0m\u001b[0m\n\u001b[0m",
      "\u001b[0;31mIndexError\u001b[0m: index 3 is out of bounds for axis 0 with size 3"
     ]
    }
   ],
   "source": [
    "plot_x(Ids[3])"
   ]
  },
  {
   "cell_type": "code",
   "execution_count": 15,
   "metadata": {
    "collapsed": false
   },
   "outputs": [
    {
     "data": {
      "text/plain": [
       "array([1, 2, 3], dtype=int64)"
      ]
     },
     "execution_count": 15,
     "metadata": {},
     "output_type": "execute_result"
    }
   ],
   "source": [
    "Ids"
   ]
  },
  {
   "cell_type": "code",
   "execution_count": 21,
   "metadata": {
    "collapsed": false
   },
   "outputs": [],
   "source": [
    "df = signs[(signs['ID'] == 1)]"
   ]
  },
  {
   "cell_type": "code",
   "execution_count": 32,
   "metadata": {
    "collapsed": false
   },
   "outputs": [
    {
     "data": {
      "text/html": [
       "<div>\n",
       "<table border=\"1\" class=\"dataframe\">\n",
       "  <thead>\n",
       "    <tr style=\"text-align: right;\">\n",
       "      <th>frame</th>\n",
       "      <th>1</th>\n",
       "      <th>2</th>\n",
       "      <th>3</th>\n",
       "      <th>4</th>\n",
       "      <th>5</th>\n",
       "      <th>6</th>\n",
       "      <th>7</th>\n",
       "      <th>8</th>\n",
       "      <th>9</th>\n",
       "      <th>10</th>\n",
       "      <th>...</th>\n",
       "      <th>41</th>\n",
       "      <th>42</th>\n",
       "      <th>43</th>\n",
       "      <th>44</th>\n",
       "      <th>45</th>\n",
       "      <th>46</th>\n",
       "      <th>47</th>\n",
       "      <th>48</th>\n",
       "      <th>49</th>\n",
       "      <th>50</th>\n",
       "    </tr>\n",
       "    <tr>\n",
       "      <th>label</th>\n",
       "      <th></th>\n",
       "      <th></th>\n",
       "      <th></th>\n",
       "      <th></th>\n",
       "      <th></th>\n",
       "      <th></th>\n",
       "      <th></th>\n",
       "      <th></th>\n",
       "      <th></th>\n",
       "      <th></th>\n",
       "      <th></th>\n",
       "      <th></th>\n",
       "      <th></th>\n",
       "      <th></th>\n",
       "      <th></th>\n",
       "      <th></th>\n",
       "      <th></th>\n",
       "      <th></th>\n",
       "      <th></th>\n",
       "      <th></th>\n",
       "      <th></th>\n",
       "    </tr>\n",
       "  </thead>\n",
       "  <tbody>\n",
       "    <tr>\n",
       "      <th>zero</th>\n",
       "      <td>-0.025557</td>\n",
       "      <td>-0.025378</td>\n",
       "      <td>-0.024217</td>\n",
       "      <td>-0.024217</td>\n",
       "      <td>-0.025467</td>\n",
       "      <td>-0.025869</td>\n",
       "      <td>-0.025467</td>\n",
       "      <td>-0.025467</td>\n",
       "      <td>-0.026271</td>\n",
       "      <td>-0.026092</td>\n",
       "      <td>...</td>\n",
       "      <td>-0.02761</td>\n",
       "      <td>-0.027923</td>\n",
       "      <td>-0.028146</td>\n",
       "      <td>-0.027566</td>\n",
       "      <td>-0.027209</td>\n",
       "      <td>-0.027298</td>\n",
       "      <td>-0.027655</td>\n",
       "      <td>-0.027164</td>\n",
       "      <td>-0.027075</td>\n",
       "      <td>-0.027253</td>\n",
       "    </tr>\n",
       "  </tbody>\n",
       "</table>\n",
       "<p>1 rows × 50 columns</p>\n",
       "</div>"
      ],
      "text/plain": [
       "frame        1         2         3         4         5         6         7   \\\n",
       "label                                                                         \n",
       "zero  -0.025557 -0.025378 -0.024217 -0.024217 -0.025467 -0.025869 -0.025467   \n",
       "\n",
       "frame        8         9         10    ...          41        42        43  \\\n",
       "label                                  ...                                   \n",
       "zero  -0.025467 -0.026271 -0.026092    ...    -0.02761 -0.027923 -0.028146   \n",
       "\n",
       "frame        44        45        46        47        48        49        50  \n",
       "label                                                                        \n",
       "zero  -0.027566 -0.027209 -0.027298 -0.027655 -0.027164 -0.027075 -0.027253  \n",
       "\n",
       "[1 rows x 50 columns]"
      ]
     },
     "execution_count": 32,
     "metadata": {},
     "output_type": "execute_result"
    }
   ],
   "source": []
  },
  {
   "cell_type": "code",
   "execution_count": 43,
   "metadata": {
    "collapsed": false
   },
   "outputs": [],
   "source": [
    "signs['frame'] = signs.groupby(['label', 'ID']).cumcount() + 1"
   ]
  },
  {
   "cell_type": "code",
   "execution_count": 48,
   "metadata": {
    "collapsed": false
   },
   "outputs": [
    {
     "data": {
      "text/plain": [
       "Index(['God', 'I', 'Norway', 'alive', 'all', 'answer', 'boy', 'building',\n",
       "       'buy', 'change_mind_', 'cold', 'come', 'computer_PC_', 'cost', 'crazy',\n",
       "       'danger', 'deaf', 'different', 'draw', 'drink', 'eat', 'exit', 'flash',\n",
       "       'forget', 'girl', 'give', 'glove', 'go', 'happy', 'head', 'hear',\n",
       "       'hello', 'his_hers', 'hot', 'how', 'hurry', 'hurt', 'innocent',\n",
       "       'is_true_', 'joke', 'juice', 'know', 'later', 'lose', 'love', 'make',\n",
       "       'man', 'maybe', 'mine', 'money', 'more', 'name', 'no', 'not', 'paper',\n",
       "       'pen', 'please', 'polite', 'question', 'read', 'ready', 'research',\n",
       "       'responsible', 'right', 'sad', 'same', 'science', 'share', 'shop',\n",
       "       'soon', 'sorry', 'spend', 'stubborn', 'surprise', 'take', 'temper',\n",
       "       'thank', 'think', 'tray', 'us', 'voluntary', 'wait_notyet_', 'what',\n",
       "       'when', 'where', 'which', 'who', 'why', 'wild', 'will', 'write',\n",
       "       'wrong', 'yes', 'you', 'zero'],\n",
       "      dtype='object', name='label')"
      ]
     },
     "execution_count": 48,
     "metadata": {},
     "output_type": "execute_result"
    }
   ],
   "source": [
    "signs[signs['ID'] == 1].pivot(columns = 'frame', values = 'x_L', index = 'label').index"
   ]
  },
  {
   "cell_type": "code",
   "execution_count": 53,
   "metadata": {
    "collapsed": false
   },
   "outputs": [],
   "source": [
    "df = signs[(signs['ID'] == 2) & (signs['label'] == 'answer')]"
   ]
  },
  {
   "cell_type": "code",
   "execution_count": 54,
   "metadata": {
    "collapsed": false
   },
   "outputs": [],
   "source": [
    "a = df['x_L']"
   ]
  },
  {
   "cell_type": "code",
   "execution_count": 58,
   "metadata": {
    "collapsed": false
   },
   "outputs": [],
   "source": [
    "a_resamp = np.fft.irfft(np.fft.rfft(a), 65)"
   ]
  },
  {
   "cell_type": "code",
   "execution_count": 59,
   "metadata": {
    "collapsed": false
   },
   "outputs": [],
   "source": [
    "df2 = pd.DataFrame()\n",
    "df2['x_L'] = a_resamp"
   ]
  },
  {
   "cell_type": "code",
   "execution_count": 93,
   "metadata": {
    "collapsed": false
   },
   "outputs": [],
   "source": []
  },
  {
   "cell_type": "code",
   "execution_count": 94,
   "metadata": {
    "collapsed": false
   },
   "outputs": [],
   "source": [
    "signs_new = temporal_scale(signs)"
   ]
  },
  {
   "cell_type": "code",
   "execution_count": 95,
   "metadata": {
    "collapsed": false
   },
   "outputs": [
    {
     "data": {
      "text/plain": [
       "16245"
      ]
     },
     "execution_count": 95,
     "metadata": {},
     "output_type": "execute_result"
    }
   ],
   "source": [
    "len(signs_new)"
   ]
  },
  {
   "cell_type": "code",
   "execution_count": 90,
   "metadata": {
    "collapsed": false
   },
   "outputs": [
    {
     "data": {
      "text/plain": [
       "95"
      ]
     },
     "execution_count": 90,
     "metadata": {},
     "output_type": "execute_result"
    }
   ],
   "source": [
    "len(labels)"
   ]
  },
  {
   "cell_type": "code",
   "execution_count": 114,
   "metadata": {
    "collapsed": false
   },
   "outputs": [
    {
     "data": {
      "text/plain": [
       "146949"
      ]
     },
     "execution_count": 114,
     "metadata": {},
     "output_type": "execute_result"
    }
   ],
   "source": [
    "len(signs_all)"
   ]
  },
  {
   "cell_type": "code",
   "execution_count": 115,
   "metadata": {
    "collapsed": false
   },
   "outputs": [
    {
     "data": {
      "text/plain": [
       "146205"
      ]
     },
     "execution_count": 115,
     "metadata": {},
     "output_type": "execute_result"
    }
   ],
   "source": [
    "len(signs_all_ts)"
   ]
  },
  {
   "cell_type": "code",
   "execution_count": null,
   "metadata": {
    "collapsed": true
   },
   "outputs": [],
   "source": [
    "t"
   ]
  }
 ],
 "metadata": {
  "anaconda-cloud": {},
  "kernelspec": {
   "display_name": "Python [default]",
   "language": "python",
   "name": "python3"
  },
  "language_info": {
   "codemirror_mode": {
    "name": "ipython",
    "version": 3
   },
   "file_extension": ".py",
   "mimetype": "text/x-python",
   "name": "python",
   "nbconvert_exporter": "python",
   "pygments_lexer": "ipython3",
   "version": "3.5.2"
  }
 },
 "nbformat": 4,
 "nbformat_minor": 2
}
