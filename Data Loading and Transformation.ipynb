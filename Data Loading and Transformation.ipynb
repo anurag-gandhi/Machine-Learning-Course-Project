{
 "cells": [
  {
   "cell_type": "code",
   "execution_count": 22,
   "metadata": {
    "collapsed": false
   },
   "outputs": [],
   "source": [
    "import pandas as pd\n",
    "import glob\n",
    "import matplotlib\n",
    "import numpy as np\n",
    "%matplotlib inline\n",
    "matplotlib.style.use('ggplot')\n",
    "import matplotlib.pyplot as plt\n",
    "import os\n",
    "from sklearn.preprocessing import MinMaxScaler\n",
    "from sklearn.preprocessing import LabelEncoder\n",
    "from sklearn import svm\n",
    "from sklearn.model_selection import train_test_split\n",
    "from sklearn.model_selection import cross_val_score\n",
    "from sklearn.metrics import classification_report"
   ]
  },
  {
   "cell_type": "code",
   "execution_count": 2,
   "metadata": {
    "collapsed": true
   },
   "outputs": [],
   "source": [
    "def import_folder(folder):\n",
    "    filenames = glob.glob(\"data/\" + folder + \"/*.tsd\")\n",
    "\n",
    "    files = [file.split('\\\\')[1].split('.')[0] for file in filenames]\n",
    "\n",
    "    signs = pd.DataFrame()\n",
    "    for filename in files:\n",
    "        df = pd.read_table('data/' + folder +'/' + filename + '.tsd', header=None)\n",
    "        label = filename.split('-')[0]\n",
    "        ID = filename.rsplit('-', 1)[1]\n",
    "        df['label'] = label\n",
    "        df['ID'] = int(ID)\n",
    "        df.columns = ['x_L','y_L','z_L','roll_L','pitch_L','yaw_L','thumb_L','fore_L','middle_L','ring_L','little_L','x_R','y_R','z_R','roll_R','pitch_R','yaw_R','thumb_R','fore_R','middle_R','ring_R','little_R', 'label', 'ID']\n",
    "        signs = signs.append(df)\n",
    "        \n",
    "    return signs\n"
   ]
  },
  {
   "cell_type": "code",
   "execution_count": 3,
   "metadata": {
    "collapsed": true
   },
   "outputs": [],
   "source": [
    "def temporal_scale(signs):\n",
    "    IDs = signs['ID'].drop_duplicates().values\n",
    "    labels = signs['label'].drop_duplicates().values\n",
    "    signs_new = pd.DataFrame(columns = signs.columns)\n",
    "    for ID in IDs:\n",
    "        for sign in labels:\n",
    "\n",
    "            df = signs[(signs['ID'] == ID) & (signs['label'] == sign)]\n",
    "\n",
    "            df = df[['x_L', 'y_L', 'z_L', 'roll_L', 'pitch_L', 'yaw_L', 'thumb_L', 'fore_L',\n",
    "                   'middle_L', 'ring_L', 'little_L', 'x_R', 'y_R', 'z_R', 'roll_R',\n",
    "                   'pitch_R', 'yaw_R', 'thumb_R', 'fore_R', 'middle_R', 'ring_R',\n",
    "                   'little_R']]\n",
    "\n",
    "            df_new = pd.DataFrame(index=np.arange(57), columns = df.columns)\n",
    "\n",
    "            for column in df:    \n",
    "                column_resample = np.fft.irfft(np.fft.rfft(df[column]), 57)\n",
    "                df_new[column] = column_resample\n",
    "\n",
    "            df_new['label'] = sign\n",
    "            df_new['ID'] = ID\n",
    "            df_new['folder'] = folder\n",
    "            signs_new = signs_new.append(df_new)\n",
    "            #original = signs_new[['x_L', 'y_L', 'z_L', 'x_R', 'y_R', 'z_R']]\n",
    "            #scaled = (original - original.min())/(original.max() - original.min())\n",
    "            #signs_new[['x_L', 'y_L', 'z_L', 'x_R', 'y_R', 'z_R']] = scaled\n",
    "    return signs_new\n",
    "    "
   ]
  },
  {
   "cell_type": "code",
   "execution_count": 4,
   "metadata": {
    "collapsed": false
   },
   "outputs": [
    {
     "name": "stdout",
     "output_type": "stream",
     "text": [
      "tctodd1\n",
      "tctodd2\n",
      "tctodd3\n",
      "tctodd4\n",
      "tctodd5\n",
      "tctodd6\n",
      "tctodd7\n",
      "tctodd8\n",
      "tctodd9\n"
     ]
    }
   ],
   "source": [
    "root='data'\n",
    "signs_all = pd.DataFrame()\n",
    "signs_all_ts = pd.DataFrame()\n",
    "dirlist = [ item for item in os.listdir(root) if os.path.isdir(os.path.join(root, item)) ]\n",
    "for folder in dirlist:\n",
    "    print(folder)\n",
    "    signs = import_folder(folder)\n",
    "    signs_ts = temporal_scale(signs)\n",
    "    signs_all = signs_all.append(signs)\n",
    "    signs_all_ts = signs_all_ts.append(signs_ts)"
   ]
  },
  {
   "cell_type": "code",
   "execution_count": 5,
   "metadata": {
    "collapsed": false
   },
   "outputs": [],
   "source": [
    "def flatten(df):\n",
    "    df2 = df\n",
    "    df['frame'] = df.index + 1\n",
    "    var = ['x_L', 'y_L', 'z_L', 'roll_L', 'pitch_L', 'yaw_L', 'thumb_L', 'fore_L',\n",
    "                   'middle_L', 'ring_L', 'little_L', 'x_R', 'y_R', 'z_R', 'roll_R',\n",
    "                   'pitch_R', 'yaw_R', 'thumb_R', 'fore_R', 'middle_R', 'ring_R',\n",
    "                   'little_R']\n",
    "    df = df[['x_L', 'y_L', 'z_L', 'roll_L', 'pitch_L', 'yaw_L', 'thumb_L', 'fore_L',\n",
    "                   'middle_L', 'ring_L', 'little_L', 'x_R', 'y_R', 'z_R', 'roll_R',\n",
    "                   'pitch_R', 'yaw_R', 'thumb_R', 'fore_R', 'middle_R', 'ring_R',\n",
    "                   'little_R', 'label', 'frame']]\n",
    "    df = df.pivot(columns = 'frame', index = 'label').reset_index()\n",
    "    df.columns = [[str(e[0]) + str(e[1]) for e in df.columns.values.tolist()]]\n",
    "    df['ID'] = df2['ID']\n",
    "    df['folder'] = df2['folder']\n",
    "    del df2\n",
    "    return df"
   ]
  },
  {
   "cell_type": "code",
   "execution_count": 6,
   "metadata": {
    "collapsed": false
   },
   "outputs": [
    {
     "name": "stderr",
     "output_type": "stream",
     "text": [
      "C:\\Users\\anura\\Anaconda3\\lib\\site-packages\\ipykernel\\__main__.py:3: SettingWithCopyWarning: \n",
      "A value is trying to be set on a copy of a slice from a DataFrame.\n",
      "Try using .loc[row_indexer,col_indexer] = value instead\n",
      "\n",
      "See the caveats in the documentation: http://pandas.pydata.org/pandas-docs/stable/indexing.html#indexing-view-versus-copy\n",
      "  app.launch_new_instance()\n"
     ]
    }
   ],
   "source": [
    "IDs = signs['ID'].drop_duplicates().values\n",
    "labels = signs['label'].drop_duplicates().values\n",
    "\n",
    "signs_flat = pd.DataFrame()\n",
    "for folder in dirlist:\n",
    "    for ID in IDs:\n",
    "        for sign in labels:\n",
    "            #print(ID, sign, folder)\n",
    "            df = signs_all_ts[(signs_all_ts['ID'] == ID) & (signs_all_ts['label'] == sign) & (signs_all_ts['folder'] == folder)]\n",
    "            signs_flat = signs_flat.append(flatten(df))"
   ]
  },
  {
   "cell_type": "code",
   "execution_count": 7,
   "metadata": {
    "collapsed": false
   },
   "outputs": [],
   "source": [
    "X = signs_flat[signs_flat.columns[2:]]\n",
    "del X['label']\n",
    "Y = signs_flat['label']\n",
    "le = LabelEncoder()\n",
    "le.fit(Y)\n",
    "Y = le.transform(Y)"
   ]
  },
  {
   "cell_type": "code",
   "execution_count": 25,
   "metadata": {
    "collapsed": false
   },
   "outputs": [
    {
     "data": {
      "text/plain": [
       "array([ 0.91282051,  0.92021277,  0.8956044 ,  0.9137931 ,  0.93251534,\n",
       "        0.91503268,  0.9057971 ,  0.92857143,  0.90350877,  0.91346154])"
      ]
     },
     "execution_count": 25,
     "metadata": {},
     "output_type": "execute_result"
    }
   ],
   "source": [
    "X_train, X_test, y_train, y_test = train_test_split(X, Y, test_size=0.40, random_state=42)\n",
    "\n",
    "clf = svm.SVC(kernel='linear', C=1)\n",
    "scores = cross_val_score(clf, X_train, y_train, cv=10)\n",
    "scores"
   ]
  },
  {
   "cell_type": "code",
   "execution_count": 26,
   "metadata": {
    "collapsed": false
   },
   "outputs": [
    {
     "data": {
      "text/plain": [
       "SVC(C=1, cache_size=200, class_weight=None, coef0=0.0,\n",
       "  decision_function_shape=None, degree=3, gamma='auto', kernel='linear',\n",
       "  max_iter=-1, probability=False, random_state=None, shrinking=True,\n",
       "  tol=0.001, verbose=False)"
      ]
     },
     "execution_count": 26,
     "metadata": {},
     "output_type": "execute_result"
    }
   ],
   "source": [
    "clf.fit(X_train, y_train)"
   ]
  },
  {
   "cell_type": "code",
   "execution_count": 27,
   "metadata": {
    "collapsed": false
   },
   "outputs": [
    {
     "data": {
      "text/plain": [
       "0.92390243902439029"
      ]
     },
     "execution_count": 27,
     "metadata": {},
     "output_type": "execute_result"
    }
   ],
   "source": [
    "sum(clf.predict(X_test) == y_test)/len(y_test)"
   ]
  },
  {
   "cell_type": "code",
   "execution_count": 28,
   "metadata": {
    "collapsed": false
   },
   "outputs": [
    {
     "data": {
      "text/plain": [
       "array([71, 34, 38, ..., 28, 77, 21], dtype=int64)"
      ]
     },
     "execution_count": 28,
     "metadata": {},
     "output_type": "execute_result"
    }
   ],
   "source": [
    "clf.predict(X_test)"
   ]
  },
  {
   "cell_type": "code",
   "execution_count": 29,
   "metadata": {
    "collapsed": false
   },
   "outputs": [
    {
     "data": {
      "text/plain": [
       "array([71, 34, 38, ..., 28,  6, 21], dtype=int64)"
      ]
     },
     "execution_count": 29,
     "metadata": {},
     "output_type": "execute_result"
    }
   ],
   "source": [
    "y_test"
   ]
  },
  {
   "cell_type": "code",
   "execution_count": 30,
   "metadata": {
    "collapsed": false
   },
   "outputs": [
    {
     "name": "stdout",
     "output_type": "stream",
     "text": [
      "             precision    recall  f1-score   support\n",
      "\n",
      "          0       1.00      0.88      0.93         8\n",
      "          1       0.82      1.00      0.90         9\n",
      "          2       1.00      1.00      1.00        14\n",
      "          3       1.00      1.00      1.00        10\n",
      "          4       1.00      1.00      1.00         8\n",
      "          5       0.69      1.00      0.81        11\n",
      "          6       0.46      0.75      0.57         8\n",
      "          7       0.89      1.00      0.94         8\n",
      "          8       1.00      0.88      0.94        17\n",
      "          9       0.92      0.92      0.92        12\n",
      "         10       1.00      1.00      1.00        10\n",
      "         11       0.91      0.71      0.80        14\n",
      "         12       1.00      1.00      1.00        11\n",
      "         13       1.00      1.00      1.00        11\n",
      "         14       0.83      0.62      0.71         8\n",
      "         15       0.83      1.00      0.91         5\n",
      "         16       0.82      1.00      0.90         9\n",
      "         17       0.77      0.91      0.83        11\n",
      "         18       0.90      0.69      0.78        13\n",
      "         19       1.00      1.00      1.00         8\n",
      "         20       1.00      0.80      0.89        15\n",
      "         21       1.00      1.00      1.00         9\n",
      "         22       1.00      1.00      1.00         7\n",
      "         23       1.00      1.00      1.00         6\n",
      "         24       0.92      0.85      0.88        13\n",
      "         25       1.00      1.00      1.00        11\n",
      "         26       0.92      0.92      0.92        12\n",
      "         27       1.00      1.00      1.00        12\n",
      "         28       0.75      1.00      0.86         6\n",
      "         29       0.91      0.91      0.91        11\n",
      "         30       1.00      1.00      1.00        10\n",
      "         31       1.00      1.00      1.00        15\n",
      "         32       0.90      0.90      0.90        10\n",
      "         33       0.88      0.88      0.88        16\n",
      "         34       1.00      1.00      1.00        12\n",
      "         35       0.85      0.79      0.81        14\n",
      "         36       1.00      0.85      0.92        13\n",
      "         37       1.00      0.44      0.62         9\n",
      "         38       1.00      0.93      0.96        14\n",
      "         39       1.00      1.00      1.00        10\n",
      "         40       1.00      1.00      1.00        13\n",
      "         41       1.00      1.00      1.00         9\n",
      "         42       0.67      0.91      0.77        11\n",
      "         43       1.00      1.00      1.00         8\n",
      "         44       1.00      1.00      1.00        13\n",
      "         45       1.00      1.00      1.00         8\n",
      "         46       0.89      1.00      0.94         8\n",
      "         47       1.00      1.00      1.00        12\n",
      "         48       0.70      1.00      0.82         7\n",
      "         49       0.89      1.00      0.94         8\n",
      "         50       0.90      0.82      0.86        11\n",
      "         51       1.00      0.92      0.96        13\n",
      "         52       1.00      1.00      1.00         7\n",
      "         53       1.00      1.00      1.00        14\n",
      "         54       1.00      1.00      1.00        12\n",
      "         55       1.00      0.79      0.88        14\n",
      "         56       1.00      1.00      1.00        10\n",
      "         57       1.00      0.92      0.96        12\n",
      "         58       1.00      0.40      0.57        15\n",
      "         59       0.73      0.92      0.81        12\n",
      "         60       1.00      1.00      1.00        16\n",
      "         61       1.00      0.89      0.94         9\n",
      "         62       1.00      1.00      1.00         9\n",
      "         63       1.00      1.00      1.00        13\n",
      "         64       1.00      0.85      0.92        13\n",
      "         65       0.86      0.86      0.86        14\n",
      "         66       0.86      1.00      0.92         6\n",
      "         67       1.00      0.92      0.96        13\n",
      "         68       0.83      1.00      0.91        10\n",
      "         69       0.67      1.00      0.80        10\n",
      "         70       0.91      0.91      0.91        11\n",
      "         71       1.00      1.00      1.00        14\n",
      "         72       1.00      1.00      1.00        11\n",
      "         73       1.00      1.00      1.00         5\n",
      "         74       0.90      1.00      0.95         9\n",
      "         75       1.00      1.00      1.00        10\n",
      "         76       0.88      1.00      0.94        15\n",
      "         77       0.67      1.00      0.80        10\n",
      "         78       0.89      0.89      0.89         9\n",
      "         79       1.00      0.80      0.89        10\n",
      "         80       1.00      1.00      1.00        12\n",
      "         81       0.93      1.00      0.96        13\n",
      "         82       0.77      1.00      0.87        10\n",
      "         83       0.91      0.91      0.91        11\n",
      "         84       1.00      0.91      0.95        11\n",
      "         85       1.00      0.94      0.97        16\n",
      "         86       1.00      0.58      0.74        12\n",
      "         87       1.00      1.00      1.00         6\n",
      "         88       0.90      1.00      0.95         9\n",
      "         89       1.00      0.89      0.94         9\n",
      "         90       1.00      0.90      0.95        10\n",
      "         91       1.00      1.00      1.00        11\n",
      "         92       1.00      0.91      0.95        11\n",
      "         93       0.90      1.00      0.95         9\n",
      "         94       0.92      1.00      0.96        11\n",
      "\n",
      "avg / total       0.94      0.92      0.92      1025\n",
      "\n"
     ]
    }
   ],
   "source": [
    "print(classification_report(y_test, clf.predict(X_test)))"
   ]
  },
  {
   "cell_type": "code",
   "execution_count": null,
   "metadata": {
    "collapsed": true
   },
   "outputs": [],
   "source": []
  }
 ],
 "metadata": {
  "anaconda-cloud": {},
  "kernelspec": {
   "display_name": "Python [default]",
   "language": "python",
   "name": "python3"
  },
  "language_info": {
   "codemirror_mode": {
    "name": "ipython",
    "version": 3
   },
   "file_extension": ".py",
   "mimetype": "text/x-python",
   "name": "python",
   "nbconvert_exporter": "python",
   "pygments_lexer": "ipython3",
   "version": "3.5.2"
  }
 },
 "nbformat": 4,
 "nbformat_minor": 2
}
